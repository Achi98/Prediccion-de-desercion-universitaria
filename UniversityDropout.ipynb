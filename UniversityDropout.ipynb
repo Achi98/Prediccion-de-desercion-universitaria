{
 "cells": [
  {
   "cell_type": "markdown",
   "metadata": {},
   "source": [
    "# PREDICCION DE LA DESERCION UNIVERSITARIA"
   ]
  },
  {
   "cell_type": "markdown",
   "metadata": {},
   "source": [
    "### IMPORTAR LIBRERIAS"
   ]
  },
  {
   "cell_type": "code",
   "execution_count": 1,
   "metadata": {},
   "outputs": [],
   "source": [
    "import numpy as np \n",
    "import pandas as pd \n",
    "import seaborn as sns\n",
    "import matplotlib.pyplot as plt\n",
    "\n",
    "from sklearn.model_selection import train_test_split # para dividir el conjunto de datos para el entrenamiento y la prueba\n",
    "from sklearn import metrics # para comprobar la precisión del modelo\n",
    "from sklearn.tree import DecisionTreeClassifier # Árbol de decisión\n",
    "from sklearn.linear_model import LogisticRegression # Regresión Logística\n",
    "from sklearn.metrics import accuracy_score\n",
    "from sklearn.tree import DecisionTreeClassifier\n",
    "from sklearn.ensemble import RandomForestClassifier\n",
    "from sklearn.metrics import confusion_matrix\n",
    "from sklearn.metrics import roc_curve\n",
    "from sklearn.metrics import roc_auc_score \n",
    "from xgboost import XGBClassifier"
   ]
  },
  {
   "cell_type": "code",
   "execution_count": 2,
   "metadata": {},
   "outputs": [],
   "source": [
    "from sklearn.metrics import accuracy_score, precision_score, recall_score, f1_score, roc_auc_score"
   ]
  },
  {
   "cell_type": "markdown",
   "metadata": {},
   "source": [
    "### IMPORTANDO LA DATA"
   ]
  },
  {
   "cell_type": "code",
   "execution_count": 3,
   "metadata": {},
   "outputs": [],
   "source": [
    "database_test = pd.read_csv(\"datasets/universitydropout-Test.csv\")\n",
    "database_train = pd.read_csv(\"datasets/universitydropout-Train.csv\")"
   ]
  },
  {
   "cell_type": "code",
   "execution_count": 4,
   "metadata": {},
   "outputs": [
    {
     "data": {
      "text/html": [
       "<div>\n",
       "<style scoped>\n",
       "    .dataframe tbody tr th:only-of-type {\n",
       "        vertical-align: middle;\n",
       "    }\n",
       "\n",
       "    .dataframe tbody tr th {\n",
       "        vertical-align: top;\n",
       "    }\n",
       "\n",
       "    .dataframe thead th {\n",
       "        text-align: right;\n",
       "    }\n",
       "</style>\n",
       "<table border=\"1\" class=\"dataframe\">\n",
       "  <thead>\n",
       "    <tr style=\"text-align: right;\">\n",
       "      <th></th>\n",
       "      <th>ID</th>\n",
       "      <th>EDAD</th>\n",
       "      <th>GENERO</th>\n",
       "      <th>CICLO</th>\n",
       "      <th>PROMEDIO_DE_NOTAS</th>\n",
       "      <th>DESAPROBO</th>\n",
       "      <th>INTERES</th>\n",
       "      <th>CONECTIVIDAD</th>\n",
       "      <th>ENFERMEDAD</th>\n",
       "      <th>FAMILIAR_ENFERMO</th>\n",
       "      <th>SOSTEN_FAMILIAR</th>\n",
       "      <th>GESTACION</th>\n",
       "      <th>INGRESO_FAMILIAR</th>\n",
       "    </tr>\n",
       "  </thead>\n",
       "  <tbody>\n",
       "    <tr>\n",
       "      <th>0</th>\n",
       "      <td>47</td>\n",
       "      <td>45</td>\n",
       "      <td>1</td>\n",
       "      <td>6</td>\n",
       "      <td>16.8</td>\n",
       "      <td>0</td>\n",
       "      <td>4</td>\n",
       "      <td>2</td>\n",
       "      <td>0</td>\n",
       "      <td>0</td>\n",
       "      <td>1</td>\n",
       "      <td>0</td>\n",
       "      <td>1200</td>\n",
       "    </tr>\n",
       "    <tr>\n",
       "      <th>1</th>\n",
       "      <td>174</td>\n",
       "      <td>45</td>\n",
       "      <td>1</td>\n",
       "      <td>7</td>\n",
       "      <td>19.0</td>\n",
       "      <td>0</td>\n",
       "      <td>4</td>\n",
       "      <td>2</td>\n",
       "      <td>0</td>\n",
       "      <td>1</td>\n",
       "      <td>0</td>\n",
       "      <td>1</td>\n",
       "      <td>1500</td>\n",
       "    </tr>\n",
       "    <tr>\n",
       "      <th>2</th>\n",
       "      <td>626</td>\n",
       "      <td>45</td>\n",
       "      <td>0</td>\n",
       "      <td>7</td>\n",
       "      <td>12.0</td>\n",
       "      <td>1</td>\n",
       "      <td>3</td>\n",
       "      <td>1</td>\n",
       "      <td>1</td>\n",
       "      <td>1</td>\n",
       "      <td>1</td>\n",
       "      <td>0</td>\n",
       "      <td>1500</td>\n",
       "    </tr>\n",
       "    <tr>\n",
       "      <th>3</th>\n",
       "      <td>784</td>\n",
       "      <td>45</td>\n",
       "      <td>0</td>\n",
       "      <td>8</td>\n",
       "      <td>17.2</td>\n",
       "      <td>0</td>\n",
       "      <td>4</td>\n",
       "      <td>1</td>\n",
       "      <td>0</td>\n",
       "      <td>1</td>\n",
       "      <td>1</td>\n",
       "      <td>0</td>\n",
       "      <td>2200</td>\n",
       "    </tr>\n",
       "    <tr>\n",
       "      <th>4</th>\n",
       "      <td>813</td>\n",
       "      <td>45</td>\n",
       "      <td>1</td>\n",
       "      <td>8</td>\n",
       "      <td>16.5</td>\n",
       "      <td>0</td>\n",
       "      <td>4</td>\n",
       "      <td>2</td>\n",
       "      <td>1</td>\n",
       "      <td>1</td>\n",
       "      <td>1</td>\n",
       "      <td>1</td>\n",
       "      <td>1800</td>\n",
       "    </tr>\n",
       "  </tbody>\n",
       "</table>\n",
       "</div>"
      ],
      "text/plain": [
       "    ID  EDAD  GENERO  CICLO  PROMEDIO_DE_NOTAS  DESAPROBO  INTERES  \\\n",
       "0   47    45       1      6               16.8          0        4   \n",
       "1  174    45       1      7               19.0          0        4   \n",
       "2  626    45       0      7               12.0          1        3   \n",
       "3  784    45       0      8               17.2          0        4   \n",
       "4  813    45       1      8               16.5          0        4   \n",
       "\n",
       "   CONECTIVIDAD  ENFERMEDAD  FAMILIAR_ENFERMO  SOSTEN_FAMILIAR  GESTACION  \\\n",
       "0             2           0                 0                1          0   \n",
       "1             2           0                 1                0          1   \n",
       "2             1           1                 1                1          0   \n",
       "3             1           0                 1                1          0   \n",
       "4             2           1                 1                1          1   \n",
       "\n",
       "   INGRESO_FAMILIAR  \n",
       "0              1200  \n",
       "1              1500  \n",
       "2              1500  \n",
       "3              2200  \n",
       "4              1800  "
      ]
     },
     "execution_count": 4,
     "metadata": {},
     "output_type": "execute_result"
    }
   ],
   "source": [
    "database_test.head()"
   ]
  },
  {
   "cell_type": "code",
   "execution_count": 5,
   "metadata": {},
   "outputs": [
    {
     "data": {
      "text/html": [
       "<div>\n",
       "<style scoped>\n",
       "    .dataframe tbody tr th:only-of-type {\n",
       "        vertical-align: middle;\n",
       "    }\n",
       "\n",
       "    .dataframe tbody tr th {\n",
       "        vertical-align: top;\n",
       "    }\n",
       "\n",
       "    .dataframe thead th {\n",
       "        text-align: right;\n",
       "    }\n",
       "</style>\n",
       "<table border=\"1\" class=\"dataframe\">\n",
       "  <thead>\n",
       "    <tr style=\"text-align: right;\">\n",
       "      <th></th>\n",
       "      <th>ID</th>\n",
       "      <th>EDAD</th>\n",
       "      <th>GENERO</th>\n",
       "      <th>CICLO</th>\n",
       "      <th>PROMEDIO_DE_NOTAS</th>\n",
       "      <th>DESAPROBO</th>\n",
       "      <th>INTERES</th>\n",
       "      <th>CONECTIVIDAD</th>\n",
       "      <th>ENFERMEDAD</th>\n",
       "      <th>FAMILIAR_ENFERMO</th>\n",
       "      <th>SOSTEN_FAMILIAR</th>\n",
       "      <th>GESTACION</th>\n",
       "      <th>INGRESO_FAMILIAR</th>\n",
       "      <th>DESERCION</th>\n",
       "    </tr>\n",
       "  </thead>\n",
       "  <tbody>\n",
       "    <tr>\n",
       "      <th>0</th>\n",
       "      <td>47</td>\n",
       "      <td>45</td>\n",
       "      <td>1</td>\n",
       "      <td>6</td>\n",
       "      <td>16.8</td>\n",
       "      <td>0</td>\n",
       "      <td>4</td>\n",
       "      <td>2</td>\n",
       "      <td>0</td>\n",
       "      <td>0</td>\n",
       "      <td>1</td>\n",
       "      <td>0</td>\n",
       "      <td>1200</td>\n",
       "      <td>0</td>\n",
       "    </tr>\n",
       "    <tr>\n",
       "      <th>1</th>\n",
       "      <td>174</td>\n",
       "      <td>45</td>\n",
       "      <td>1</td>\n",
       "      <td>7</td>\n",
       "      <td>19.0</td>\n",
       "      <td>0</td>\n",
       "      <td>4</td>\n",
       "      <td>2</td>\n",
       "      <td>0</td>\n",
       "      <td>1</td>\n",
       "      <td>0</td>\n",
       "      <td>1</td>\n",
       "      <td>1500</td>\n",
       "      <td>1</td>\n",
       "    </tr>\n",
       "    <tr>\n",
       "      <th>2</th>\n",
       "      <td>626</td>\n",
       "      <td>45</td>\n",
       "      <td>0</td>\n",
       "      <td>7</td>\n",
       "      <td>12.0</td>\n",
       "      <td>1</td>\n",
       "      <td>3</td>\n",
       "      <td>1</td>\n",
       "      <td>1</td>\n",
       "      <td>1</td>\n",
       "      <td>1</td>\n",
       "      <td>0</td>\n",
       "      <td>1500</td>\n",
       "      <td>1</td>\n",
       "    </tr>\n",
       "    <tr>\n",
       "      <th>3</th>\n",
       "      <td>784</td>\n",
       "      <td>45</td>\n",
       "      <td>0</td>\n",
       "      <td>8</td>\n",
       "      <td>17.2</td>\n",
       "      <td>0</td>\n",
       "      <td>4</td>\n",
       "      <td>1</td>\n",
       "      <td>0</td>\n",
       "      <td>1</td>\n",
       "      <td>1</td>\n",
       "      <td>0</td>\n",
       "      <td>2200</td>\n",
       "      <td>1</td>\n",
       "    </tr>\n",
       "    <tr>\n",
       "      <th>4</th>\n",
       "      <td>813</td>\n",
       "      <td>45</td>\n",
       "      <td>1</td>\n",
       "      <td>8</td>\n",
       "      <td>16.5</td>\n",
       "      <td>0</td>\n",
       "      <td>4</td>\n",
       "      <td>2</td>\n",
       "      <td>1</td>\n",
       "      <td>1</td>\n",
       "      <td>1</td>\n",
       "      <td>1</td>\n",
       "      <td>1800</td>\n",
       "      <td>0</td>\n",
       "    </tr>\n",
       "  </tbody>\n",
       "</table>\n",
       "</div>"
      ],
      "text/plain": [
       "    ID  EDAD  GENERO  CICLO  PROMEDIO_DE_NOTAS  DESAPROBO  INTERES  \\\n",
       "0   47    45       1      6               16.8          0        4   \n",
       "1  174    45       1      7               19.0          0        4   \n",
       "2  626    45       0      7               12.0          1        3   \n",
       "3  784    45       0      8               17.2          0        4   \n",
       "4  813    45       1      8               16.5          0        4   \n",
       "\n",
       "   CONECTIVIDAD  ENFERMEDAD  FAMILIAR_ENFERMO  SOSTEN_FAMILIAR  GESTACION  \\\n",
       "0             2           0                 0                1          0   \n",
       "1             2           0                 1                0          1   \n",
       "2             1           1                 1                1          0   \n",
       "3             1           0                 1                1          0   \n",
       "4             2           1                 1                1          1   \n",
       "\n",
       "   INGRESO_FAMILIAR  DESERCION  \n",
       "0              1200          0  \n",
       "1              1500          1  \n",
       "2              1500          1  \n",
       "3              2200          1  \n",
       "4              1800          0  "
      ]
     },
     "execution_count": 5,
     "metadata": {},
     "output_type": "execute_result"
    }
   ],
   "source": [
    "\n",
    "database_train.head()"
   ]
  },
  {
   "cell_type": "markdown",
   "metadata": {},
   "source": [
    "### EXPLORACION DE LOS DATOS"
   ]
  },
  {
   "cell_type": "markdown",
   "metadata": {},
   "source": [
    "#### Verificar la cantidad de datos en los datasets"
   ]
  },
  {
   "cell_type": "code",
   "execution_count": 6,
   "metadata": {},
   "outputs": [
    {
     "data": {
      "text/plain": [
       "(1500, 13)"
      ]
     },
     "execution_count": 6,
     "metadata": {},
     "output_type": "execute_result"
    }
   ],
   "source": [
    "database_test.shape"
   ]
  },
  {
   "cell_type": "code",
   "execution_count": 7,
   "metadata": {},
   "outputs": [
    {
     "data": {
      "text/plain": [
       "(1500, 14)"
      ]
     },
     "execution_count": 7,
     "metadata": {},
     "output_type": "execute_result"
    }
   ],
   "source": [
    "database_train.shape"
   ]
  },
  {
   "cell_type": "markdown",
   "metadata": {},
   "source": [
    "#### Verificar el tipo de dato en ambos datasets"
   ]
  },
  {
   "cell_type": "code",
   "execution_count": 8,
   "metadata": {},
   "outputs": [
    {
     "data": {
      "text/plain": [
       "ID                     int64\n",
       "EDAD                   int64\n",
       "GENERO                 int64\n",
       "CICLO                  int64\n",
       "PROMEDIO_DE_NOTAS    float64\n",
       "DESAPROBO              int64\n",
       "INTERES                int64\n",
       "CONECTIVIDAD           int64\n",
       "ENFERMEDAD             int64\n",
       "FAMILIAR_ENFERMO       int64\n",
       "SOSTEN_FAMILIAR        int64\n",
       "GESTACION              int64\n",
       "INGRESO_FAMILIAR       int64\n",
       "dtype: object"
      ]
     },
     "execution_count": 8,
     "metadata": {},
     "output_type": "execute_result"
    }
   ],
   "source": [
    "database_test.dtypes"
   ]
  },
  {
   "cell_type": "code",
   "execution_count": 9,
   "metadata": {},
   "outputs": [
    {
     "data": {
      "text/plain": [
       "ID                     int64\n",
       "EDAD                   int64\n",
       "GENERO                 int64\n",
       "CICLO                  int64\n",
       "PROMEDIO_DE_NOTAS    float64\n",
       "DESAPROBO              int64\n",
       "INTERES                int64\n",
       "CONECTIVIDAD           int64\n",
       "ENFERMEDAD             int64\n",
       "FAMILIAR_ENFERMO       int64\n",
       "SOSTEN_FAMILIAR        int64\n",
       "GESTACION              int64\n",
       "INGRESO_FAMILIAR       int64\n",
       "DESERCION              int64\n",
       "dtype: object"
      ]
     },
     "execution_count": 9,
     "metadata": {},
     "output_type": "execute_result"
    }
   ],
   "source": [
    "database_train.dtypes"
   ]
  },
  {
   "cell_type": "markdown",
   "metadata": {},
   "source": [
    "#### Revision de datos nulos"
   ]
  },
  {
   "cell_type": "code",
   "execution_count": 10,
   "metadata": {},
   "outputs": [
    {
     "data": {
      "text/plain": [
       "ID                   0\n",
       "EDAD                 0\n",
       "GENERO               0\n",
       "CICLO                0\n",
       "PROMEDIO_DE_NOTAS    0\n",
       "DESAPROBO            0\n",
       "INTERES              0\n",
       "CONECTIVIDAD         0\n",
       "ENFERMEDAD           0\n",
       "FAMILIAR_ENFERMO     0\n",
       "SOSTEN_FAMILIAR      0\n",
       "GESTACION            0\n",
       "INGRESO_FAMILIAR     0\n",
       "dtype: int64"
      ]
     },
     "execution_count": 10,
     "metadata": {},
     "output_type": "execute_result"
    }
   ],
   "source": [
    "pd.isnull(database_test).sum()"
   ]
  },
  {
   "cell_type": "code",
   "execution_count": 11,
   "metadata": {},
   "outputs": [
    {
     "data": {
      "text/plain": [
       "ID                   0\n",
       "EDAD                 0\n",
       "GENERO               0\n",
       "CICLO                0\n",
       "PROMEDIO_DE_NOTAS    0\n",
       "DESAPROBO            0\n",
       "INTERES              0\n",
       "CONECTIVIDAD         0\n",
       "ENFERMEDAD           0\n",
       "FAMILIAR_ENFERMO     0\n",
       "SOSTEN_FAMILIAR      0\n",
       "GESTACION            0\n",
       "INGRESO_FAMILIAR     0\n",
       "DESERCION            0\n",
       "dtype: int64"
      ]
     },
     "execution_count": 11,
     "metadata": {},
     "output_type": "execute_result"
    }
   ],
   "source": [
    "pd.isnull(database_train).sum()"
   ]
  },
  {
   "cell_type": "markdown",
   "metadata": {},
   "source": [
    "#### Revision de las estadisticas de ambos datasets\n"
   ]
  },
  {
   "cell_type": "code",
   "execution_count": 12,
   "metadata": {},
   "outputs": [
    {
     "data": {
      "text/html": [
       "<div>\n",
       "<style scoped>\n",
       "    .dataframe tbody tr th:only-of-type {\n",
       "        vertical-align: middle;\n",
       "    }\n",
       "\n",
       "    .dataframe tbody tr th {\n",
       "        vertical-align: top;\n",
       "    }\n",
       "\n",
       "    .dataframe thead th {\n",
       "        text-align: right;\n",
       "    }\n",
       "</style>\n",
       "<table border=\"1\" class=\"dataframe\">\n",
       "  <thead>\n",
       "    <tr style=\"text-align: right;\">\n",
       "      <th></th>\n",
       "      <th>ID</th>\n",
       "      <th>EDAD</th>\n",
       "      <th>GENERO</th>\n",
       "      <th>CICLO</th>\n",
       "      <th>PROMEDIO_DE_NOTAS</th>\n",
       "      <th>DESAPROBO</th>\n",
       "      <th>INTERES</th>\n",
       "      <th>CONECTIVIDAD</th>\n",
       "      <th>ENFERMEDAD</th>\n",
       "      <th>FAMILIAR_ENFERMO</th>\n",
       "      <th>SOSTEN_FAMILIAR</th>\n",
       "      <th>GESTACION</th>\n",
       "      <th>INGRESO_FAMILIAR</th>\n",
       "    </tr>\n",
       "  </thead>\n",
       "  <tbody>\n",
       "    <tr>\n",
       "      <th>count</th>\n",
       "      <td>1500.000000</td>\n",
       "      <td>1500.000000</td>\n",
       "      <td>1500.000000</td>\n",
       "      <td>1500.000000</td>\n",
       "      <td>1500.000000</td>\n",
       "      <td>1500.000000</td>\n",
       "      <td>1500.000000</td>\n",
       "      <td>1500.000000</td>\n",
       "      <td>1500.000000</td>\n",
       "      <td>1500.000000</td>\n",
       "      <td>1500.000000</td>\n",
       "      <td>1500.000000</td>\n",
       "      <td>1500.000000</td>\n",
       "    </tr>\n",
       "    <tr>\n",
       "      <th>mean</th>\n",
       "      <td>750.500000</td>\n",
       "      <td>19.633333</td>\n",
       "      <td>0.498667</td>\n",
       "      <td>2.948667</td>\n",
       "      <td>15.484267</td>\n",
       "      <td>0.268000</td>\n",
       "      <td>3.580000</td>\n",
       "      <td>1.505333</td>\n",
       "      <td>0.521333</td>\n",
       "      <td>0.490667</td>\n",
       "      <td>0.472000</td>\n",
       "      <td>0.495333</td>\n",
       "      <td>1132.373333</td>\n",
       "    </tr>\n",
       "    <tr>\n",
       "      <th>std</th>\n",
       "      <td>433.157015</td>\n",
       "      <td>7.058997</td>\n",
       "      <td>0.500165</td>\n",
       "      <td>2.201499</td>\n",
       "      <td>2.059173</td>\n",
       "      <td>0.443065</td>\n",
       "      <td>1.082149</td>\n",
       "      <td>0.578095</td>\n",
       "      <td>0.499711</td>\n",
       "      <td>0.500080</td>\n",
       "      <td>0.499382</td>\n",
       "      <td>0.500145</td>\n",
       "      <td>301.400501</td>\n",
       "    </tr>\n",
       "    <tr>\n",
       "      <th>min</th>\n",
       "      <td>1.000000</td>\n",
       "      <td>16.000000</td>\n",
       "      <td>0.000000</td>\n",
       "      <td>1.000000</td>\n",
       "      <td>12.000000</td>\n",
       "      <td>0.000000</td>\n",
       "      <td>1.000000</td>\n",
       "      <td>1.000000</td>\n",
       "      <td>0.000000</td>\n",
       "      <td>0.000000</td>\n",
       "      <td>0.000000</td>\n",
       "      <td>0.000000</td>\n",
       "      <td>800.000000</td>\n",
       "    </tr>\n",
       "    <tr>\n",
       "      <th>25%</th>\n",
       "      <td>375.750000</td>\n",
       "      <td>16.000000</td>\n",
       "      <td>0.000000</td>\n",
       "      <td>1.000000</td>\n",
       "      <td>13.700000</td>\n",
       "      <td>0.000000</td>\n",
       "      <td>3.000000</td>\n",
       "      <td>1.000000</td>\n",
       "      <td>0.000000</td>\n",
       "      <td>0.000000</td>\n",
       "      <td>0.000000</td>\n",
       "      <td>0.000000</td>\n",
       "      <td>900.000000</td>\n",
       "    </tr>\n",
       "    <tr>\n",
       "      <th>50%</th>\n",
       "      <td>750.500000</td>\n",
       "      <td>17.000000</td>\n",
       "      <td>0.000000</td>\n",
       "      <td>2.000000</td>\n",
       "      <td>15.500000</td>\n",
       "      <td>0.000000</td>\n",
       "      <td>4.000000</td>\n",
       "      <td>1.000000</td>\n",
       "      <td>1.000000</td>\n",
       "      <td>0.000000</td>\n",
       "      <td>0.000000</td>\n",
       "      <td>0.000000</td>\n",
       "      <td>1000.000000</td>\n",
       "    </tr>\n",
       "    <tr>\n",
       "      <th>75%</th>\n",
       "      <td>1125.250000</td>\n",
       "      <td>18.000000</td>\n",
       "      <td>1.000000</td>\n",
       "      <td>4.000000</td>\n",
       "      <td>17.300000</td>\n",
       "      <td>1.000000</td>\n",
       "      <td>4.000000</td>\n",
       "      <td>2.000000</td>\n",
       "      <td>1.000000</td>\n",
       "      <td>1.000000</td>\n",
       "      <td>1.000000</td>\n",
       "      <td>1.000000</td>\n",
       "      <td>1300.000000</td>\n",
       "    </tr>\n",
       "    <tr>\n",
       "      <th>max</th>\n",
       "      <td>1500.000000</td>\n",
       "      <td>45.000000</td>\n",
       "      <td>1.000000</td>\n",
       "      <td>10.000000</td>\n",
       "      <td>19.000000</td>\n",
       "      <td>1.000000</td>\n",
       "      <td>5.000000</td>\n",
       "      <td>3.000000</td>\n",
       "      <td>1.000000</td>\n",
       "      <td>1.000000</td>\n",
       "      <td>1.000000</td>\n",
       "      <td>1.000000</td>\n",
       "      <td>2200.000000</td>\n",
       "    </tr>\n",
       "  </tbody>\n",
       "</table>\n",
       "</div>"
      ],
      "text/plain": [
       "                ID         EDAD       GENERO        CICLO  PROMEDIO_DE_NOTAS  \\\n",
       "count  1500.000000  1500.000000  1500.000000  1500.000000        1500.000000   \n",
       "mean    750.500000    19.633333     0.498667     2.948667          15.484267   \n",
       "std     433.157015     7.058997     0.500165     2.201499           2.059173   \n",
       "min       1.000000    16.000000     0.000000     1.000000          12.000000   \n",
       "25%     375.750000    16.000000     0.000000     1.000000          13.700000   \n",
       "50%     750.500000    17.000000     0.000000     2.000000          15.500000   \n",
       "75%    1125.250000    18.000000     1.000000     4.000000          17.300000   \n",
       "max    1500.000000    45.000000     1.000000    10.000000          19.000000   \n",
       "\n",
       "         DESAPROBO      INTERES  CONECTIVIDAD   ENFERMEDAD  FAMILIAR_ENFERMO  \\\n",
       "count  1500.000000  1500.000000   1500.000000  1500.000000       1500.000000   \n",
       "mean      0.268000     3.580000      1.505333     0.521333          0.490667   \n",
       "std       0.443065     1.082149      0.578095     0.499711          0.500080   \n",
       "min       0.000000     1.000000      1.000000     0.000000          0.000000   \n",
       "25%       0.000000     3.000000      1.000000     0.000000          0.000000   \n",
       "50%       0.000000     4.000000      1.000000     1.000000          0.000000   \n",
       "75%       1.000000     4.000000      2.000000     1.000000          1.000000   \n",
       "max       1.000000     5.000000      3.000000     1.000000          1.000000   \n",
       "\n",
       "       SOSTEN_FAMILIAR    GESTACION  INGRESO_FAMILIAR  \n",
       "count      1500.000000  1500.000000       1500.000000  \n",
       "mean          0.472000     0.495333       1132.373333  \n",
       "std           0.499382     0.500145        301.400501  \n",
       "min           0.000000     0.000000        800.000000  \n",
       "25%           0.000000     0.000000        900.000000  \n",
       "50%           0.000000     0.000000       1000.000000  \n",
       "75%           1.000000     1.000000       1300.000000  \n",
       "max           1.000000     1.000000       2200.000000  "
      ]
     },
     "execution_count": 12,
     "metadata": {},
     "output_type": "execute_result"
    }
   ],
   "source": [
    "database_test.describe()"
   ]
  },
  {
   "cell_type": "code",
   "execution_count": 13,
   "metadata": {},
   "outputs": [
    {
     "data": {
      "text/html": [
       "<div>\n",
       "<style scoped>\n",
       "    .dataframe tbody tr th:only-of-type {\n",
       "        vertical-align: middle;\n",
       "    }\n",
       "\n",
       "    .dataframe tbody tr th {\n",
       "        vertical-align: top;\n",
       "    }\n",
       "\n",
       "    .dataframe thead th {\n",
       "        text-align: right;\n",
       "    }\n",
       "</style>\n",
       "<table border=\"1\" class=\"dataframe\">\n",
       "  <thead>\n",
       "    <tr style=\"text-align: right;\">\n",
       "      <th></th>\n",
       "      <th>ID</th>\n",
       "      <th>EDAD</th>\n",
       "      <th>GENERO</th>\n",
       "      <th>CICLO</th>\n",
       "      <th>PROMEDIO_DE_NOTAS</th>\n",
       "      <th>DESAPROBO</th>\n",
       "      <th>INTERES</th>\n",
       "      <th>CONECTIVIDAD</th>\n",
       "      <th>ENFERMEDAD</th>\n",
       "      <th>FAMILIAR_ENFERMO</th>\n",
       "      <th>SOSTEN_FAMILIAR</th>\n",
       "      <th>GESTACION</th>\n",
       "      <th>INGRESO_FAMILIAR</th>\n",
       "      <th>DESERCION</th>\n",
       "    </tr>\n",
       "  </thead>\n",
       "  <tbody>\n",
       "    <tr>\n",
       "      <th>count</th>\n",
       "      <td>1500.000000</td>\n",
       "      <td>1500.000000</td>\n",
       "      <td>1500.000000</td>\n",
       "      <td>1500.000000</td>\n",
       "      <td>1500.000000</td>\n",
       "      <td>1500.000000</td>\n",
       "      <td>1500.000000</td>\n",
       "      <td>1500.000000</td>\n",
       "      <td>1500.000000</td>\n",
       "      <td>1500.000000</td>\n",
       "      <td>1500.000000</td>\n",
       "      <td>1500.000000</td>\n",
       "      <td>1500.000000</td>\n",
       "      <td>1500.000000</td>\n",
       "    </tr>\n",
       "    <tr>\n",
       "      <th>mean</th>\n",
       "      <td>750.500000</td>\n",
       "      <td>19.633333</td>\n",
       "      <td>0.498667</td>\n",
       "      <td>2.948667</td>\n",
       "      <td>15.484267</td>\n",
       "      <td>0.268000</td>\n",
       "      <td>3.580000</td>\n",
       "      <td>1.505333</td>\n",
       "      <td>0.521333</td>\n",
       "      <td>0.490667</td>\n",
       "      <td>0.472000</td>\n",
       "      <td>0.495333</td>\n",
       "      <td>1132.373333</td>\n",
       "      <td>0.401333</td>\n",
       "    </tr>\n",
       "    <tr>\n",
       "      <th>std</th>\n",
       "      <td>433.157015</td>\n",
       "      <td>7.058997</td>\n",
       "      <td>0.500165</td>\n",
       "      <td>2.201499</td>\n",
       "      <td>2.059173</td>\n",
       "      <td>0.443065</td>\n",
       "      <td>1.082149</td>\n",
       "      <td>0.578095</td>\n",
       "      <td>0.499711</td>\n",
       "      <td>0.500080</td>\n",
       "      <td>0.499382</td>\n",
       "      <td>0.500145</td>\n",
       "      <td>301.400501</td>\n",
       "      <td>0.490332</td>\n",
       "    </tr>\n",
       "    <tr>\n",
       "      <th>min</th>\n",
       "      <td>1.000000</td>\n",
       "      <td>16.000000</td>\n",
       "      <td>0.000000</td>\n",
       "      <td>1.000000</td>\n",
       "      <td>12.000000</td>\n",
       "      <td>0.000000</td>\n",
       "      <td>1.000000</td>\n",
       "      <td>1.000000</td>\n",
       "      <td>0.000000</td>\n",
       "      <td>0.000000</td>\n",
       "      <td>0.000000</td>\n",
       "      <td>0.000000</td>\n",
       "      <td>800.000000</td>\n",
       "      <td>0.000000</td>\n",
       "    </tr>\n",
       "    <tr>\n",
       "      <th>25%</th>\n",
       "      <td>375.750000</td>\n",
       "      <td>16.000000</td>\n",
       "      <td>0.000000</td>\n",
       "      <td>1.000000</td>\n",
       "      <td>13.700000</td>\n",
       "      <td>0.000000</td>\n",
       "      <td>3.000000</td>\n",
       "      <td>1.000000</td>\n",
       "      <td>0.000000</td>\n",
       "      <td>0.000000</td>\n",
       "      <td>0.000000</td>\n",
       "      <td>0.000000</td>\n",
       "      <td>900.000000</td>\n",
       "      <td>0.000000</td>\n",
       "    </tr>\n",
       "    <tr>\n",
       "      <th>50%</th>\n",
       "      <td>750.500000</td>\n",
       "      <td>17.000000</td>\n",
       "      <td>0.000000</td>\n",
       "      <td>2.000000</td>\n",
       "      <td>15.500000</td>\n",
       "      <td>0.000000</td>\n",
       "      <td>4.000000</td>\n",
       "      <td>1.000000</td>\n",
       "      <td>1.000000</td>\n",
       "      <td>0.000000</td>\n",
       "      <td>0.000000</td>\n",
       "      <td>0.000000</td>\n",
       "      <td>1000.000000</td>\n",
       "      <td>0.000000</td>\n",
       "    </tr>\n",
       "    <tr>\n",
       "      <th>75%</th>\n",
       "      <td>1125.250000</td>\n",
       "      <td>18.000000</td>\n",
       "      <td>1.000000</td>\n",
       "      <td>4.000000</td>\n",
       "      <td>17.300000</td>\n",
       "      <td>1.000000</td>\n",
       "      <td>4.000000</td>\n",
       "      <td>2.000000</td>\n",
       "      <td>1.000000</td>\n",
       "      <td>1.000000</td>\n",
       "      <td>1.000000</td>\n",
       "      <td>1.000000</td>\n",
       "      <td>1300.000000</td>\n",
       "      <td>1.000000</td>\n",
       "    </tr>\n",
       "    <tr>\n",
       "      <th>max</th>\n",
       "      <td>1500.000000</td>\n",
       "      <td>45.000000</td>\n",
       "      <td>1.000000</td>\n",
       "      <td>10.000000</td>\n",
       "      <td>19.000000</td>\n",
       "      <td>1.000000</td>\n",
       "      <td>5.000000</td>\n",
       "      <td>3.000000</td>\n",
       "      <td>1.000000</td>\n",
       "      <td>1.000000</td>\n",
       "      <td>1.000000</td>\n",
       "      <td>1.000000</td>\n",
       "      <td>2200.000000</td>\n",
       "      <td>1.000000</td>\n",
       "    </tr>\n",
       "  </tbody>\n",
       "</table>\n",
       "</div>"
      ],
      "text/plain": [
       "                ID         EDAD       GENERO        CICLO  PROMEDIO_DE_NOTAS  \\\n",
       "count  1500.000000  1500.000000  1500.000000  1500.000000        1500.000000   \n",
       "mean    750.500000    19.633333     0.498667     2.948667          15.484267   \n",
       "std     433.157015     7.058997     0.500165     2.201499           2.059173   \n",
       "min       1.000000    16.000000     0.000000     1.000000          12.000000   \n",
       "25%     375.750000    16.000000     0.000000     1.000000          13.700000   \n",
       "50%     750.500000    17.000000     0.000000     2.000000          15.500000   \n",
       "75%    1125.250000    18.000000     1.000000     4.000000          17.300000   \n",
       "max    1500.000000    45.000000     1.000000    10.000000          19.000000   \n",
       "\n",
       "         DESAPROBO      INTERES  CONECTIVIDAD   ENFERMEDAD  FAMILIAR_ENFERMO  \\\n",
       "count  1500.000000  1500.000000   1500.000000  1500.000000       1500.000000   \n",
       "mean      0.268000     3.580000      1.505333     0.521333          0.490667   \n",
       "std       0.443065     1.082149      0.578095     0.499711          0.500080   \n",
       "min       0.000000     1.000000      1.000000     0.000000          0.000000   \n",
       "25%       0.000000     3.000000      1.000000     0.000000          0.000000   \n",
       "50%       0.000000     4.000000      1.000000     1.000000          0.000000   \n",
       "75%       1.000000     4.000000      2.000000     1.000000          1.000000   \n",
       "max       1.000000     5.000000      3.000000     1.000000          1.000000   \n",
       "\n",
       "       SOSTEN_FAMILIAR    GESTACION  INGRESO_FAMILIAR    DESERCION  \n",
       "count      1500.000000  1500.000000       1500.000000  1500.000000  \n",
       "mean          0.472000     0.495333       1132.373333     0.401333  \n",
       "std           0.499382     0.500145        301.400501     0.490332  \n",
       "min           0.000000     0.000000        800.000000     0.000000  \n",
       "25%           0.000000     0.000000        900.000000     0.000000  \n",
       "50%           0.000000     0.000000       1000.000000     0.000000  \n",
       "75%           1.000000     1.000000       1300.000000     1.000000  \n",
       "max           1.000000     1.000000       2200.000000     1.000000  "
      ]
     },
     "execution_count": 13,
     "metadata": {},
     "output_type": "execute_result"
    }
   ],
   "source": [
    "database_train.describe()"
   ]
  },
  {
   "cell_type": "markdown",
   "metadata": {},
   "source": [
    "### PREPROCESAMIENTO DE LA DATA"
   ]
  },
  {
   "cell_type": "markdown",
   "metadata": {},
   "source": [
    "#### Codificar los datos de INGRESO FAMILIAR"
   ]
  },
  {
   "cell_type": "code",
   "execution_count": 14,
   "metadata": {},
   "outputs": [],
   "source": [
    "#Crear varios grupos de ingreso familiar segun nuestros datos\n",
    "#Bandas: 500-1000, 1100-1500, 1600-2000, 2100-2500\n",
    "rangoIngresos = [500, 1000, 1500, 2000, 2500]\n",
    "namesRango= ['0','1', '2', '3']\n",
    "database_test['INGRESO_FAMILIAR'] = pd.cut(database_test['INGRESO_FAMILIAR'], rangoIngresos, labels= namesRango)\n",
    "database_train['INGRESO_FAMILIAR'] = pd.cut(database_train['INGRESO_FAMILIAR'], rangoIngresos, labels= namesRango)"
   ]
  },
  {
   "cell_type": "code",
   "execution_count": 15,
   "metadata": {},
   "outputs": [
    {
     "data": {
      "text/html": [
       "<div>\n",
       "<style scoped>\n",
       "    .dataframe tbody tr th:only-of-type {\n",
       "        vertical-align: middle;\n",
       "    }\n",
       "\n",
       "    .dataframe tbody tr th {\n",
       "        vertical-align: top;\n",
       "    }\n",
       "\n",
       "    .dataframe thead th {\n",
       "        text-align: right;\n",
       "    }\n",
       "</style>\n",
       "<table border=\"1\" class=\"dataframe\">\n",
       "  <thead>\n",
       "    <tr style=\"text-align: right;\">\n",
       "      <th></th>\n",
       "      <th>ID</th>\n",
       "      <th>EDAD</th>\n",
       "      <th>GENERO</th>\n",
       "      <th>CICLO</th>\n",
       "      <th>PROMEDIO_DE_NOTAS</th>\n",
       "      <th>DESAPROBO</th>\n",
       "      <th>INTERES</th>\n",
       "      <th>CONECTIVIDAD</th>\n",
       "      <th>ENFERMEDAD</th>\n",
       "      <th>FAMILIAR_ENFERMO</th>\n",
       "      <th>SOSTEN_FAMILIAR</th>\n",
       "      <th>GESTACION</th>\n",
       "      <th>INGRESO_FAMILIAR</th>\n",
       "    </tr>\n",
       "  </thead>\n",
       "  <tbody>\n",
       "    <tr>\n",
       "      <th>0</th>\n",
       "      <td>47</td>\n",
       "      <td>45</td>\n",
       "      <td>1</td>\n",
       "      <td>6</td>\n",
       "      <td>16.8</td>\n",
       "      <td>0</td>\n",
       "      <td>4</td>\n",
       "      <td>2</td>\n",
       "      <td>0</td>\n",
       "      <td>0</td>\n",
       "      <td>1</td>\n",
       "      <td>0</td>\n",
       "      <td>1</td>\n",
       "    </tr>\n",
       "    <tr>\n",
       "      <th>1</th>\n",
       "      <td>174</td>\n",
       "      <td>45</td>\n",
       "      <td>1</td>\n",
       "      <td>7</td>\n",
       "      <td>19.0</td>\n",
       "      <td>0</td>\n",
       "      <td>4</td>\n",
       "      <td>2</td>\n",
       "      <td>0</td>\n",
       "      <td>1</td>\n",
       "      <td>0</td>\n",
       "      <td>1</td>\n",
       "      <td>1</td>\n",
       "    </tr>\n",
       "    <tr>\n",
       "      <th>2</th>\n",
       "      <td>626</td>\n",
       "      <td>45</td>\n",
       "      <td>0</td>\n",
       "      <td>7</td>\n",
       "      <td>12.0</td>\n",
       "      <td>1</td>\n",
       "      <td>3</td>\n",
       "      <td>1</td>\n",
       "      <td>1</td>\n",
       "      <td>1</td>\n",
       "      <td>1</td>\n",
       "      <td>0</td>\n",
       "      <td>1</td>\n",
       "    </tr>\n",
       "    <tr>\n",
       "      <th>3</th>\n",
       "      <td>784</td>\n",
       "      <td>45</td>\n",
       "      <td>0</td>\n",
       "      <td>8</td>\n",
       "      <td>17.2</td>\n",
       "      <td>0</td>\n",
       "      <td>4</td>\n",
       "      <td>1</td>\n",
       "      <td>0</td>\n",
       "      <td>1</td>\n",
       "      <td>1</td>\n",
       "      <td>0</td>\n",
       "      <td>3</td>\n",
       "    </tr>\n",
       "    <tr>\n",
       "      <th>4</th>\n",
       "      <td>813</td>\n",
       "      <td>45</td>\n",
       "      <td>1</td>\n",
       "      <td>8</td>\n",
       "      <td>16.5</td>\n",
       "      <td>0</td>\n",
       "      <td>4</td>\n",
       "      <td>2</td>\n",
       "      <td>1</td>\n",
       "      <td>1</td>\n",
       "      <td>1</td>\n",
       "      <td>1</td>\n",
       "      <td>2</td>\n",
       "    </tr>\n",
       "  </tbody>\n",
       "</table>\n",
       "</div>"
      ],
      "text/plain": [
       "    ID  EDAD  GENERO  CICLO  PROMEDIO_DE_NOTAS  DESAPROBO  INTERES  \\\n",
       "0   47    45       1      6               16.8          0        4   \n",
       "1  174    45       1      7               19.0          0        4   \n",
       "2  626    45       0      7               12.0          1        3   \n",
       "3  784    45       0      8               17.2          0        4   \n",
       "4  813    45       1      8               16.5          0        4   \n",
       "\n",
       "   CONECTIVIDAD  ENFERMEDAD  FAMILIAR_ENFERMO  SOSTEN_FAMILIAR  GESTACION  \\\n",
       "0             2           0                 0                1          0   \n",
       "1             2           0                 1                0          1   \n",
       "2             1           1                 1                1          0   \n",
       "3             1           0                 1                1          0   \n",
       "4             2           1                 1                1          1   \n",
       "\n",
       "  INGRESO_FAMILIAR  \n",
       "0                1  \n",
       "1                1  \n",
       "2                1  \n",
       "3                3  \n",
       "4                2  "
      ]
     },
     "execution_count": 15,
     "metadata": {},
     "output_type": "execute_result"
    }
   ],
   "source": [
    "database_test.head()"
   ]
  },
  {
   "cell_type": "code",
   "execution_count": 16,
   "metadata": {},
   "outputs": [
    {
     "data": {
      "text/html": [
       "<div>\n",
       "<style scoped>\n",
       "    .dataframe tbody tr th:only-of-type {\n",
       "        vertical-align: middle;\n",
       "    }\n",
       "\n",
       "    .dataframe tbody tr th {\n",
       "        vertical-align: top;\n",
       "    }\n",
       "\n",
       "    .dataframe thead th {\n",
       "        text-align: right;\n",
       "    }\n",
       "</style>\n",
       "<table border=\"1\" class=\"dataframe\">\n",
       "  <thead>\n",
       "    <tr style=\"text-align: right;\">\n",
       "      <th></th>\n",
       "      <th>ID</th>\n",
       "      <th>EDAD</th>\n",
       "      <th>GENERO</th>\n",
       "      <th>CICLO</th>\n",
       "      <th>PROMEDIO_DE_NOTAS</th>\n",
       "      <th>DESAPROBO</th>\n",
       "      <th>INTERES</th>\n",
       "      <th>CONECTIVIDAD</th>\n",
       "      <th>ENFERMEDAD</th>\n",
       "      <th>FAMILIAR_ENFERMO</th>\n",
       "      <th>SOSTEN_FAMILIAR</th>\n",
       "      <th>GESTACION</th>\n",
       "      <th>INGRESO_FAMILIAR</th>\n",
       "      <th>DESERCION</th>\n",
       "    </tr>\n",
       "  </thead>\n",
       "  <tbody>\n",
       "    <tr>\n",
       "      <th>0</th>\n",
       "      <td>47</td>\n",
       "      <td>45</td>\n",
       "      <td>1</td>\n",
       "      <td>6</td>\n",
       "      <td>16.8</td>\n",
       "      <td>0</td>\n",
       "      <td>4</td>\n",
       "      <td>2</td>\n",
       "      <td>0</td>\n",
       "      <td>0</td>\n",
       "      <td>1</td>\n",
       "      <td>0</td>\n",
       "      <td>1</td>\n",
       "      <td>0</td>\n",
       "    </tr>\n",
       "    <tr>\n",
       "      <th>1</th>\n",
       "      <td>174</td>\n",
       "      <td>45</td>\n",
       "      <td>1</td>\n",
       "      <td>7</td>\n",
       "      <td>19.0</td>\n",
       "      <td>0</td>\n",
       "      <td>4</td>\n",
       "      <td>2</td>\n",
       "      <td>0</td>\n",
       "      <td>1</td>\n",
       "      <td>0</td>\n",
       "      <td>1</td>\n",
       "      <td>1</td>\n",
       "      <td>1</td>\n",
       "    </tr>\n",
       "    <tr>\n",
       "      <th>2</th>\n",
       "      <td>626</td>\n",
       "      <td>45</td>\n",
       "      <td>0</td>\n",
       "      <td>7</td>\n",
       "      <td>12.0</td>\n",
       "      <td>1</td>\n",
       "      <td>3</td>\n",
       "      <td>1</td>\n",
       "      <td>1</td>\n",
       "      <td>1</td>\n",
       "      <td>1</td>\n",
       "      <td>0</td>\n",
       "      <td>1</td>\n",
       "      <td>1</td>\n",
       "    </tr>\n",
       "    <tr>\n",
       "      <th>3</th>\n",
       "      <td>784</td>\n",
       "      <td>45</td>\n",
       "      <td>0</td>\n",
       "      <td>8</td>\n",
       "      <td>17.2</td>\n",
       "      <td>0</td>\n",
       "      <td>4</td>\n",
       "      <td>1</td>\n",
       "      <td>0</td>\n",
       "      <td>1</td>\n",
       "      <td>1</td>\n",
       "      <td>0</td>\n",
       "      <td>3</td>\n",
       "      <td>1</td>\n",
       "    </tr>\n",
       "    <tr>\n",
       "      <th>4</th>\n",
       "      <td>813</td>\n",
       "      <td>45</td>\n",
       "      <td>1</td>\n",
       "      <td>8</td>\n",
       "      <td>16.5</td>\n",
       "      <td>0</td>\n",
       "      <td>4</td>\n",
       "      <td>2</td>\n",
       "      <td>1</td>\n",
       "      <td>1</td>\n",
       "      <td>1</td>\n",
       "      <td>1</td>\n",
       "      <td>2</td>\n",
       "      <td>0</td>\n",
       "    </tr>\n",
       "  </tbody>\n",
       "</table>\n",
       "</div>"
      ],
      "text/plain": [
       "    ID  EDAD  GENERO  CICLO  PROMEDIO_DE_NOTAS  DESAPROBO  INTERES  \\\n",
       "0   47    45       1      6               16.8          0        4   \n",
       "1  174    45       1      7               19.0          0        4   \n",
       "2  626    45       0      7               12.0          1        3   \n",
       "3  784    45       0      8               17.2          0        4   \n",
       "4  813    45       1      8               16.5          0        4   \n",
       "\n",
       "   CONECTIVIDAD  ENFERMEDAD  FAMILIAR_ENFERMO  SOSTEN_FAMILIAR  GESTACION  \\\n",
       "0             2           0                 0                1          0   \n",
       "1             2           0                 1                0          1   \n",
       "2             1           1                 1                1          0   \n",
       "3             1           0                 1                1          0   \n",
       "4             2           1                 1                1          1   \n",
       "\n",
       "  INGRESO_FAMILIAR  DESERCION  \n",
       "0                1          0  \n",
       "1                1          1  \n",
       "2                1          1  \n",
       "3                3          1  \n",
       "4                2          0  "
      ]
     },
     "execution_count": 16,
     "metadata": {},
     "output_type": "execute_result"
    }
   ],
   "source": [
    "database_train.head()"
   ]
  },
  {
   "cell_type": "markdown",
   "metadata": {},
   "source": [
    "#### Eliminando la columna GESTACION"
   ]
  },
  {
   "cell_type": "code",
   "execution_count": 17,
   "metadata": {},
   "outputs": [],
   "source": [
    "database_test.drop(['GESTACION'], axis=1, inplace=True)\n",
    "database_train.drop(['GESTACION'], axis=1, inplace=True)"
   ]
  },
  {
   "cell_type": "code",
   "execution_count": 18,
   "metadata": {},
   "outputs": [
    {
     "data": {
      "text/html": [
       "<div>\n",
       "<style scoped>\n",
       "    .dataframe tbody tr th:only-of-type {\n",
       "        vertical-align: middle;\n",
       "    }\n",
       "\n",
       "    .dataframe tbody tr th {\n",
       "        vertical-align: top;\n",
       "    }\n",
       "\n",
       "    .dataframe thead th {\n",
       "        text-align: right;\n",
       "    }\n",
       "</style>\n",
       "<table border=\"1\" class=\"dataframe\">\n",
       "  <thead>\n",
       "    <tr style=\"text-align: right;\">\n",
       "      <th></th>\n",
       "      <th>ID</th>\n",
       "      <th>EDAD</th>\n",
       "      <th>GENERO</th>\n",
       "      <th>CICLO</th>\n",
       "      <th>PROMEDIO_DE_NOTAS</th>\n",
       "      <th>DESAPROBO</th>\n",
       "      <th>INTERES</th>\n",
       "      <th>CONECTIVIDAD</th>\n",
       "      <th>ENFERMEDAD</th>\n",
       "      <th>FAMILIAR_ENFERMO</th>\n",
       "      <th>SOSTEN_FAMILIAR</th>\n",
       "      <th>INGRESO_FAMILIAR</th>\n",
       "    </tr>\n",
       "  </thead>\n",
       "  <tbody>\n",
       "    <tr>\n",
       "      <th>0</th>\n",
       "      <td>47</td>\n",
       "      <td>45</td>\n",
       "      <td>1</td>\n",
       "      <td>6</td>\n",
       "      <td>16.8</td>\n",
       "      <td>0</td>\n",
       "      <td>4</td>\n",
       "      <td>2</td>\n",
       "      <td>0</td>\n",
       "      <td>0</td>\n",
       "      <td>1</td>\n",
       "      <td>1</td>\n",
       "    </tr>\n",
       "    <tr>\n",
       "      <th>1</th>\n",
       "      <td>174</td>\n",
       "      <td>45</td>\n",
       "      <td>1</td>\n",
       "      <td>7</td>\n",
       "      <td>19.0</td>\n",
       "      <td>0</td>\n",
       "      <td>4</td>\n",
       "      <td>2</td>\n",
       "      <td>0</td>\n",
       "      <td>1</td>\n",
       "      <td>0</td>\n",
       "      <td>1</td>\n",
       "    </tr>\n",
       "    <tr>\n",
       "      <th>2</th>\n",
       "      <td>626</td>\n",
       "      <td>45</td>\n",
       "      <td>0</td>\n",
       "      <td>7</td>\n",
       "      <td>12.0</td>\n",
       "      <td>1</td>\n",
       "      <td>3</td>\n",
       "      <td>1</td>\n",
       "      <td>1</td>\n",
       "      <td>1</td>\n",
       "      <td>1</td>\n",
       "      <td>1</td>\n",
       "    </tr>\n",
       "    <tr>\n",
       "      <th>3</th>\n",
       "      <td>784</td>\n",
       "      <td>45</td>\n",
       "      <td>0</td>\n",
       "      <td>8</td>\n",
       "      <td>17.2</td>\n",
       "      <td>0</td>\n",
       "      <td>4</td>\n",
       "      <td>1</td>\n",
       "      <td>0</td>\n",
       "      <td>1</td>\n",
       "      <td>1</td>\n",
       "      <td>3</td>\n",
       "    </tr>\n",
       "    <tr>\n",
       "      <th>4</th>\n",
       "      <td>813</td>\n",
       "      <td>45</td>\n",
       "      <td>1</td>\n",
       "      <td>8</td>\n",
       "      <td>16.5</td>\n",
       "      <td>0</td>\n",
       "      <td>4</td>\n",
       "      <td>2</td>\n",
       "      <td>1</td>\n",
       "      <td>1</td>\n",
       "      <td>1</td>\n",
       "      <td>2</td>\n",
       "    </tr>\n",
       "  </tbody>\n",
       "</table>\n",
       "</div>"
      ],
      "text/plain": [
       "    ID  EDAD  GENERO  CICLO  PROMEDIO_DE_NOTAS  DESAPROBO  INTERES  \\\n",
       "0   47    45       1      6               16.8          0        4   \n",
       "1  174    45       1      7               19.0          0        4   \n",
       "2  626    45       0      7               12.0          1        3   \n",
       "3  784    45       0      8               17.2          0        4   \n",
       "4  813    45       1      8               16.5          0        4   \n",
       "\n",
       "   CONECTIVIDAD  ENFERMEDAD  FAMILIAR_ENFERMO  SOSTEN_FAMILIAR  \\\n",
       "0             2           0                 0                1   \n",
       "1             2           0                 1                0   \n",
       "2             1           1                 1                1   \n",
       "3             1           0                 1                1   \n",
       "4             2           1                 1                1   \n",
       "\n",
       "  INGRESO_FAMILIAR  \n",
       "0                1  \n",
       "1                1  \n",
       "2                1  \n",
       "3                3  \n",
       "4                2  "
      ]
     },
     "execution_count": 18,
     "metadata": {},
     "output_type": "execute_result"
    }
   ],
   "source": [
    "database_test.head()"
   ]
  },
  {
   "cell_type": "code",
   "execution_count": 19,
   "metadata": {},
   "outputs": [
    {
     "data": {
      "text/html": [
       "<div>\n",
       "<style scoped>\n",
       "    .dataframe tbody tr th:only-of-type {\n",
       "        vertical-align: middle;\n",
       "    }\n",
       "\n",
       "    .dataframe tbody tr th {\n",
       "        vertical-align: top;\n",
       "    }\n",
       "\n",
       "    .dataframe thead th {\n",
       "        text-align: right;\n",
       "    }\n",
       "</style>\n",
       "<table border=\"1\" class=\"dataframe\">\n",
       "  <thead>\n",
       "    <tr style=\"text-align: right;\">\n",
       "      <th></th>\n",
       "      <th>ID</th>\n",
       "      <th>EDAD</th>\n",
       "      <th>GENERO</th>\n",
       "      <th>CICLO</th>\n",
       "      <th>PROMEDIO_DE_NOTAS</th>\n",
       "      <th>DESAPROBO</th>\n",
       "      <th>INTERES</th>\n",
       "      <th>CONECTIVIDAD</th>\n",
       "      <th>ENFERMEDAD</th>\n",
       "      <th>FAMILIAR_ENFERMO</th>\n",
       "      <th>SOSTEN_FAMILIAR</th>\n",
       "      <th>INGRESO_FAMILIAR</th>\n",
       "      <th>DESERCION</th>\n",
       "    </tr>\n",
       "  </thead>\n",
       "  <tbody>\n",
       "    <tr>\n",
       "      <th>0</th>\n",
       "      <td>47</td>\n",
       "      <td>45</td>\n",
       "      <td>1</td>\n",
       "      <td>6</td>\n",
       "      <td>16.8</td>\n",
       "      <td>0</td>\n",
       "      <td>4</td>\n",
       "      <td>2</td>\n",
       "      <td>0</td>\n",
       "      <td>0</td>\n",
       "      <td>1</td>\n",
       "      <td>1</td>\n",
       "      <td>0</td>\n",
       "    </tr>\n",
       "    <tr>\n",
       "      <th>1</th>\n",
       "      <td>174</td>\n",
       "      <td>45</td>\n",
       "      <td>1</td>\n",
       "      <td>7</td>\n",
       "      <td>19.0</td>\n",
       "      <td>0</td>\n",
       "      <td>4</td>\n",
       "      <td>2</td>\n",
       "      <td>0</td>\n",
       "      <td>1</td>\n",
       "      <td>0</td>\n",
       "      <td>1</td>\n",
       "      <td>1</td>\n",
       "    </tr>\n",
       "    <tr>\n",
       "      <th>2</th>\n",
       "      <td>626</td>\n",
       "      <td>45</td>\n",
       "      <td>0</td>\n",
       "      <td>7</td>\n",
       "      <td>12.0</td>\n",
       "      <td>1</td>\n",
       "      <td>3</td>\n",
       "      <td>1</td>\n",
       "      <td>1</td>\n",
       "      <td>1</td>\n",
       "      <td>1</td>\n",
       "      <td>1</td>\n",
       "      <td>1</td>\n",
       "    </tr>\n",
       "    <tr>\n",
       "      <th>3</th>\n",
       "      <td>784</td>\n",
       "      <td>45</td>\n",
       "      <td>0</td>\n",
       "      <td>8</td>\n",
       "      <td>17.2</td>\n",
       "      <td>0</td>\n",
       "      <td>4</td>\n",
       "      <td>1</td>\n",
       "      <td>0</td>\n",
       "      <td>1</td>\n",
       "      <td>1</td>\n",
       "      <td>3</td>\n",
       "      <td>1</td>\n",
       "    </tr>\n",
       "    <tr>\n",
       "      <th>4</th>\n",
       "      <td>813</td>\n",
       "      <td>45</td>\n",
       "      <td>1</td>\n",
       "      <td>8</td>\n",
       "      <td>16.5</td>\n",
       "      <td>0</td>\n",
       "      <td>4</td>\n",
       "      <td>2</td>\n",
       "      <td>1</td>\n",
       "      <td>1</td>\n",
       "      <td>1</td>\n",
       "      <td>2</td>\n",
       "      <td>0</td>\n",
       "    </tr>\n",
       "  </tbody>\n",
       "</table>\n",
       "</div>"
      ],
      "text/plain": [
       "    ID  EDAD  GENERO  CICLO  PROMEDIO_DE_NOTAS  DESAPROBO  INTERES  \\\n",
       "0   47    45       1      6               16.8          0        4   \n",
       "1  174    45       1      7               19.0          0        4   \n",
       "2  626    45       0      7               12.0          1        3   \n",
       "3  784    45       0      8               17.2          0        4   \n",
       "4  813    45       1      8               16.5          0        4   \n",
       "\n",
       "   CONECTIVIDAD  ENFERMEDAD  FAMILIAR_ENFERMO  SOSTEN_FAMILIAR  \\\n",
       "0             2           0                 0                1   \n",
       "1             2           0                 1                0   \n",
       "2             1           1                 1                1   \n",
       "3             1           0                 1                1   \n",
       "4             2           1                 1                1   \n",
       "\n",
       "  INGRESO_FAMILIAR  DESERCION  \n",
       "0                1          0  \n",
       "1                1          1  \n",
       "2                1          1  \n",
       "3                3          1  \n",
       "4                2          0  "
      ]
     },
     "execution_count": 19,
     "metadata": {},
     "output_type": "execute_result"
    }
   ],
   "source": [
    "database_train.head()"
   ]
  },
  {
   "cell_type": "markdown",
   "metadata": {},
   "source": [
    "##### Revision de datos nulos"
   ]
  },
  {
   "cell_type": "code",
   "execution_count": 20,
   "metadata": {},
   "outputs": [
    {
     "data": {
      "text/plain": [
       "ID                   0\n",
       "EDAD                 0\n",
       "GENERO               0\n",
       "CICLO                0\n",
       "PROMEDIO_DE_NOTAS    0\n",
       "DESAPROBO            0\n",
       "INTERES              0\n",
       "CONECTIVIDAD         0\n",
       "ENFERMEDAD           0\n",
       "FAMILIAR_ENFERMO     0\n",
       "SOSTEN_FAMILIAR      0\n",
       "INGRESO_FAMILIAR     0\n",
       "dtype: int64"
      ]
     },
     "execution_count": 20,
     "metadata": {},
     "output_type": "execute_result"
    }
   ],
   "source": [
    "pd.isnull(database_test).sum()"
   ]
  },
  {
   "cell_type": "code",
   "execution_count": 21,
   "metadata": {},
   "outputs": [
    {
     "data": {
      "text/plain": [
       "ID                   0\n",
       "EDAD                 0\n",
       "GENERO               0\n",
       "CICLO                0\n",
       "PROMEDIO_DE_NOTAS    0\n",
       "DESAPROBO            0\n",
       "INTERES              0\n",
       "CONECTIVIDAD         0\n",
       "ENFERMEDAD           0\n",
       "FAMILIAR_ENFERMO     0\n",
       "SOSTEN_FAMILIAR      0\n",
       "INGRESO_FAMILIAR     0\n",
       "DESERCION            0\n",
       "dtype: int64"
      ]
     },
     "execution_count": 21,
     "metadata": {},
     "output_type": "execute_result"
    }
   ],
   "source": [
    "pd.isnull(database_train).sum()"
   ]
  },
  {
   "cell_type": "markdown",
   "metadata": {},
   "source": [
    "#### Eliminar columna ID en el dataset de entrenamiento"
   ]
  },
  {
   "cell_type": "code",
   "execution_count": 22,
   "metadata": {},
   "outputs": [],
   "source": [
    "database_train.drop(['ID'], axis=1, inplace=True)"
   ]
  },
  {
   "cell_type": "code",
   "execution_count": 23,
   "metadata": {},
   "outputs": [],
   "source": [
    "database_test.drop(['ID'], axis=1, inplace=True)"
   ]
  },
  {
   "cell_type": "markdown",
   "metadata": {},
   "source": [
    "#### Codificar los datos de CONECTIVIDAD"
   ]
  },
  {
   "cell_type": "code",
   "execution_count": 24,
   "metadata": {},
   "outputs": [],
   "source": [
    "#Crear varios grupos del grado de conectividad segun nuestros datos\n",
    "#Bandas: 0-1, 2-3\n",
    "rangoConectividad = [0, 1, 2, 3]\n",
    "namesRango= ['0','1', '2']\n",
    "database_test['CONECTIVIDAD'] = pd.cut(database_test['CONECTIVIDAD'], rangoConectividad, labels= namesRango)\n",
    "database_train['CONECTIVIDAD'] = pd.cut(database_train['CONECTIVIDAD'], rangoConectividad, labels= namesRango)"
   ]
  },
  {
   "cell_type": "markdown",
   "metadata": {},
   "source": [
    "#### Verificar los datos"
   ]
  },
  {
   "cell_type": "code",
   "execution_count": 25,
   "metadata": {},
   "outputs": [
    {
     "data": {
      "text/html": [
       "<div>\n",
       "<style scoped>\n",
       "    .dataframe tbody tr th:only-of-type {\n",
       "        vertical-align: middle;\n",
       "    }\n",
       "\n",
       "    .dataframe tbody tr th {\n",
       "        vertical-align: top;\n",
       "    }\n",
       "\n",
       "    .dataframe thead th {\n",
       "        text-align: right;\n",
       "    }\n",
       "</style>\n",
       "<table border=\"1\" class=\"dataframe\">\n",
       "  <thead>\n",
       "    <tr style=\"text-align: right;\">\n",
       "      <th></th>\n",
       "      <th>EDAD</th>\n",
       "      <th>GENERO</th>\n",
       "      <th>CICLO</th>\n",
       "      <th>PROMEDIO_DE_NOTAS</th>\n",
       "      <th>DESAPROBO</th>\n",
       "      <th>INTERES</th>\n",
       "      <th>CONECTIVIDAD</th>\n",
       "      <th>ENFERMEDAD</th>\n",
       "      <th>FAMILIAR_ENFERMO</th>\n",
       "      <th>SOSTEN_FAMILIAR</th>\n",
       "      <th>INGRESO_FAMILIAR</th>\n",
       "    </tr>\n",
       "  </thead>\n",
       "  <tbody>\n",
       "    <tr>\n",
       "      <th>0</th>\n",
       "      <td>45</td>\n",
       "      <td>1</td>\n",
       "      <td>6</td>\n",
       "      <td>16.8</td>\n",
       "      <td>0</td>\n",
       "      <td>4</td>\n",
       "      <td>1</td>\n",
       "      <td>0</td>\n",
       "      <td>0</td>\n",
       "      <td>1</td>\n",
       "      <td>1</td>\n",
       "    </tr>\n",
       "    <tr>\n",
       "      <th>1</th>\n",
       "      <td>45</td>\n",
       "      <td>1</td>\n",
       "      <td>7</td>\n",
       "      <td>19.0</td>\n",
       "      <td>0</td>\n",
       "      <td>4</td>\n",
       "      <td>1</td>\n",
       "      <td>0</td>\n",
       "      <td>1</td>\n",
       "      <td>0</td>\n",
       "      <td>1</td>\n",
       "    </tr>\n",
       "    <tr>\n",
       "      <th>2</th>\n",
       "      <td>45</td>\n",
       "      <td>0</td>\n",
       "      <td>7</td>\n",
       "      <td>12.0</td>\n",
       "      <td>1</td>\n",
       "      <td>3</td>\n",
       "      <td>0</td>\n",
       "      <td>1</td>\n",
       "      <td>1</td>\n",
       "      <td>1</td>\n",
       "      <td>1</td>\n",
       "    </tr>\n",
       "    <tr>\n",
       "      <th>3</th>\n",
       "      <td>45</td>\n",
       "      <td>0</td>\n",
       "      <td>8</td>\n",
       "      <td>17.2</td>\n",
       "      <td>0</td>\n",
       "      <td>4</td>\n",
       "      <td>0</td>\n",
       "      <td>0</td>\n",
       "      <td>1</td>\n",
       "      <td>1</td>\n",
       "      <td>3</td>\n",
       "    </tr>\n",
       "    <tr>\n",
       "      <th>4</th>\n",
       "      <td>45</td>\n",
       "      <td>1</td>\n",
       "      <td>8</td>\n",
       "      <td>16.5</td>\n",
       "      <td>0</td>\n",
       "      <td>4</td>\n",
       "      <td>1</td>\n",
       "      <td>1</td>\n",
       "      <td>1</td>\n",
       "      <td>1</td>\n",
       "      <td>2</td>\n",
       "    </tr>\n",
       "  </tbody>\n",
       "</table>\n",
       "</div>"
      ],
      "text/plain": [
       "   EDAD  GENERO  CICLO  PROMEDIO_DE_NOTAS  DESAPROBO  INTERES CONECTIVIDAD  \\\n",
       "0    45       1      6               16.8          0        4            1   \n",
       "1    45       1      7               19.0          0        4            1   \n",
       "2    45       0      7               12.0          1        3            0   \n",
       "3    45       0      8               17.2          0        4            0   \n",
       "4    45       1      8               16.5          0        4            1   \n",
       "\n",
       "   ENFERMEDAD  FAMILIAR_ENFERMO  SOSTEN_FAMILIAR INGRESO_FAMILIAR  \n",
       "0           0                 0                1                1  \n",
       "1           0                 1                0                1  \n",
       "2           1                 1                1                1  \n",
       "3           0                 1                1                3  \n",
       "4           1                 1                1                2  "
      ]
     },
     "execution_count": 25,
     "metadata": {},
     "output_type": "execute_result"
    }
   ],
   "source": [
    "database_test.head()"
   ]
  },
  {
   "cell_type": "code",
   "execution_count": 26,
   "metadata": {},
   "outputs": [
    {
     "data": {
      "text/html": [
       "<div>\n",
       "<style scoped>\n",
       "    .dataframe tbody tr th:only-of-type {\n",
       "        vertical-align: middle;\n",
       "    }\n",
       "\n",
       "    .dataframe tbody tr th {\n",
       "        vertical-align: top;\n",
       "    }\n",
       "\n",
       "    .dataframe thead th {\n",
       "        text-align: right;\n",
       "    }\n",
       "</style>\n",
       "<table border=\"1\" class=\"dataframe\">\n",
       "  <thead>\n",
       "    <tr style=\"text-align: right;\">\n",
       "      <th></th>\n",
       "      <th>EDAD</th>\n",
       "      <th>GENERO</th>\n",
       "      <th>CICLO</th>\n",
       "      <th>PROMEDIO_DE_NOTAS</th>\n",
       "      <th>DESAPROBO</th>\n",
       "      <th>INTERES</th>\n",
       "      <th>CONECTIVIDAD</th>\n",
       "      <th>ENFERMEDAD</th>\n",
       "      <th>FAMILIAR_ENFERMO</th>\n",
       "      <th>SOSTEN_FAMILIAR</th>\n",
       "      <th>INGRESO_FAMILIAR</th>\n",
       "      <th>DESERCION</th>\n",
       "    </tr>\n",
       "  </thead>\n",
       "  <tbody>\n",
       "    <tr>\n",
       "      <th>0</th>\n",
       "      <td>45</td>\n",
       "      <td>1</td>\n",
       "      <td>6</td>\n",
       "      <td>16.8</td>\n",
       "      <td>0</td>\n",
       "      <td>4</td>\n",
       "      <td>1</td>\n",
       "      <td>0</td>\n",
       "      <td>0</td>\n",
       "      <td>1</td>\n",
       "      <td>1</td>\n",
       "      <td>0</td>\n",
       "    </tr>\n",
       "    <tr>\n",
       "      <th>1</th>\n",
       "      <td>45</td>\n",
       "      <td>1</td>\n",
       "      <td>7</td>\n",
       "      <td>19.0</td>\n",
       "      <td>0</td>\n",
       "      <td>4</td>\n",
       "      <td>1</td>\n",
       "      <td>0</td>\n",
       "      <td>1</td>\n",
       "      <td>0</td>\n",
       "      <td>1</td>\n",
       "      <td>1</td>\n",
       "    </tr>\n",
       "    <tr>\n",
       "      <th>2</th>\n",
       "      <td>45</td>\n",
       "      <td>0</td>\n",
       "      <td>7</td>\n",
       "      <td>12.0</td>\n",
       "      <td>1</td>\n",
       "      <td>3</td>\n",
       "      <td>0</td>\n",
       "      <td>1</td>\n",
       "      <td>1</td>\n",
       "      <td>1</td>\n",
       "      <td>1</td>\n",
       "      <td>1</td>\n",
       "    </tr>\n",
       "    <tr>\n",
       "      <th>3</th>\n",
       "      <td>45</td>\n",
       "      <td>0</td>\n",
       "      <td>8</td>\n",
       "      <td>17.2</td>\n",
       "      <td>0</td>\n",
       "      <td>4</td>\n",
       "      <td>0</td>\n",
       "      <td>0</td>\n",
       "      <td>1</td>\n",
       "      <td>1</td>\n",
       "      <td>3</td>\n",
       "      <td>1</td>\n",
       "    </tr>\n",
       "    <tr>\n",
       "      <th>4</th>\n",
       "      <td>45</td>\n",
       "      <td>1</td>\n",
       "      <td>8</td>\n",
       "      <td>16.5</td>\n",
       "      <td>0</td>\n",
       "      <td>4</td>\n",
       "      <td>1</td>\n",
       "      <td>1</td>\n",
       "      <td>1</td>\n",
       "      <td>1</td>\n",
       "      <td>2</td>\n",
       "      <td>0</td>\n",
       "    </tr>\n",
       "  </tbody>\n",
       "</table>\n",
       "</div>"
      ],
      "text/plain": [
       "   EDAD  GENERO  CICLO  PROMEDIO_DE_NOTAS  DESAPROBO  INTERES CONECTIVIDAD  \\\n",
       "0    45       1      6               16.8          0        4            1   \n",
       "1    45       1      7               19.0          0        4            1   \n",
       "2    45       0      7               12.0          1        3            0   \n",
       "3    45       0      8               17.2          0        4            0   \n",
       "4    45       1      8               16.5          0        4            1   \n",
       "\n",
       "   ENFERMEDAD  FAMILIAR_ENFERMO  SOSTEN_FAMILIAR INGRESO_FAMILIAR  DESERCION  \n",
       "0           0                 0                1                1          0  \n",
       "1           0                 1                0                1          1  \n",
       "2           1                 1                1                1          1  \n",
       "3           0                 1                1                3          1  \n",
       "4           1                 1                1                2          0  "
      ]
     },
     "execution_count": 26,
     "metadata": {},
     "output_type": "execute_result"
    }
   ],
   "source": [
    "database_train.head()"
   ]
  },
  {
   "cell_type": "markdown",
   "metadata": {},
   "source": [
    "#### Revisar el tipo de datos de los campos codificados"
   ]
  },
  {
   "cell_type": "code",
   "execution_count": 27,
   "metadata": {},
   "outputs": [
    {
     "data": {
      "text/plain": [
       "EDAD                    int64\n",
       "GENERO                  int64\n",
       "CICLO                   int64\n",
       "PROMEDIO_DE_NOTAS     float64\n",
       "DESAPROBO               int64\n",
       "INTERES                 int64\n",
       "CONECTIVIDAD         category\n",
       "ENFERMEDAD              int64\n",
       "FAMILIAR_ENFERMO        int64\n",
       "SOSTEN_FAMILIAR         int64\n",
       "INGRESO_FAMILIAR     category\n",
       "dtype: object"
      ]
     },
     "execution_count": 27,
     "metadata": {},
     "output_type": "execute_result"
    }
   ],
   "source": [
    "database_test.dtypes"
   ]
  },
  {
   "cell_type": "code",
   "execution_count": 28,
   "metadata": {},
   "outputs": [
    {
     "data": {
      "text/plain": [
       "EDAD                    int64\n",
       "GENERO                  int64\n",
       "CICLO                   int64\n",
       "PROMEDIO_DE_NOTAS     float64\n",
       "DESAPROBO               int64\n",
       "INTERES                 int64\n",
       "CONECTIVIDAD         category\n",
       "ENFERMEDAD              int64\n",
       "FAMILIAR_ENFERMO        int64\n",
       "SOSTEN_FAMILIAR         int64\n",
       "INGRESO_FAMILIAR     category\n",
       "DESERCION               int64\n",
       "dtype: object"
      ]
     },
     "execution_count": 28,
     "metadata": {},
     "output_type": "execute_result"
    }
   ],
   "source": [
    "database_train.dtypes"
   ]
  },
  {
   "cell_type": "markdown",
   "metadata": {},
   "source": [
    "#### Cambiando los datos typo category a int"
   ]
  },
  {
   "cell_type": "code",
   "execution_count": 29,
   "metadata": {},
   "outputs": [],
   "source": [
    "database_test[['CONECTIVIDAD', 'INGRESO_FAMILIAR']] = database_test[['CONECTIVIDAD', 'INGRESO_FAMILIAR']].astype('int64')"
   ]
  },
  {
   "cell_type": "code",
   "execution_count": 30,
   "metadata": {},
   "outputs": [],
   "source": [
    "database_train[['CONECTIVIDAD', 'INGRESO_FAMILIAR']] = database_train[['CONECTIVIDAD', 'INGRESO_FAMILIAR']].astype('int64')"
   ]
  },
  {
   "cell_type": "markdown",
   "metadata": {},
   "source": [
    "#### Revisar el tipo de datos"
   ]
  },
  {
   "cell_type": "code",
   "execution_count": 31,
   "metadata": {},
   "outputs": [
    {
     "data": {
      "text/plain": [
       "EDAD                   int64\n",
       "GENERO                 int64\n",
       "CICLO                  int64\n",
       "PROMEDIO_DE_NOTAS    float64\n",
       "DESAPROBO              int64\n",
       "INTERES                int64\n",
       "CONECTIVIDAD           int64\n",
       "ENFERMEDAD             int64\n",
       "FAMILIAR_ENFERMO       int64\n",
       "SOSTEN_FAMILIAR        int64\n",
       "INGRESO_FAMILIAR       int64\n",
       "dtype: object"
      ]
     },
     "execution_count": 31,
     "metadata": {},
     "output_type": "execute_result"
    }
   ],
   "source": [
    "database_test.dtypes"
   ]
  },
  {
   "cell_type": "code",
   "execution_count": 32,
   "metadata": {},
   "outputs": [
    {
     "data": {
      "text/plain": [
       "EDAD                   int64\n",
       "GENERO                 int64\n",
       "CICLO                  int64\n",
       "PROMEDIO_DE_NOTAS    float64\n",
       "DESAPROBO              int64\n",
       "INTERES                int64\n",
       "CONECTIVIDAD           int64\n",
       "ENFERMEDAD             int64\n",
       "FAMILIAR_ENFERMO       int64\n",
       "SOSTEN_FAMILIAR        int64\n",
       "INGRESO_FAMILIAR       int64\n",
       "DESERCION              int64\n",
       "dtype: object"
      ]
     },
     "execution_count": 32,
     "metadata": {},
     "output_type": "execute_result"
    }
   ],
   "source": [
    "database_train.dtypes"
   ]
  },
  {
   "cell_type": "code",
   "execution_count": 33,
   "metadata": {},
   "outputs": [
    {
     "data": {
      "text/plain": [
       "<AxesSubplot:xlabel='DESERCION', ylabel='count'>"
      ]
     },
     "execution_count": 33,
     "metadata": {},
     "output_type": "execute_result"
    },
    {
     "data": {
      "image/png": "[encoded data removed]",
      "text/plain": [
       "<Figure size 432x288 with 1 Axes>"
      ]
     },
     "metadata": {
      "needs_background": "light"
     },
     "output_type": "display_data"
    }
   ],
   "source": [
    "#Obteniendo de forma gráfica a través del método countplotlos los valores diferentes de la columna DESERCION y el número de veces que se repiten\n",
    "#sns.countplot(database_train['DESERCION'])\n",
    "sns.countplot(x = 'DESERCION', data = database_train)"
   ]
  },
  {
   "cell_type": "code",
   "execution_count": 34,
   "metadata": {},
   "outputs": [
    {
     "data": {
      "text/plain": [
       "0    898\n",
       "1    602\n",
       "Name: DESERCION, dtype: int64"
      ]
     },
     "execution_count": 34,
     "metadata": {},
     "output_type": "execute_result"
    }
   ],
   "source": [
    "#Obteniendo los valores diferentes de la columna DESERCION y el número de veces que se repiten\n",
    "database_train['DESERCION'].value_counts()"
   ]
  },
  {
   "cell_type": "markdown",
   "metadata": {},
   "source": [
    "#### Revision de las estadisticas de ambos datasets luego del Preprocesamiento"
   ]
  },
  {
   "cell_type": "code",
   "execution_count": 35,
   "metadata": {},
   "outputs": [
    {
     "data": {
      "text/html": [
       "<div>\n",
       "<style scoped>\n",
       "    .dataframe tbody tr th:only-of-type {\n",
       "        vertical-align: middle;\n",
       "    }\n",
       "\n",
       "    .dataframe tbody tr th {\n",
       "        vertical-align: top;\n",
       "    }\n",
       "\n",
       "    .dataframe thead th {\n",
       "        text-align: right;\n",
       "    }\n",
       "</style>\n",
       "<table border=\"1\" class=\"dataframe\">\n",
       "  <thead>\n",
       "    <tr style=\"text-align: right;\">\n",
       "      <th></th>\n",
       "      <th>EDAD</th>\n",
       "      <th>GENERO</th>\n",
       "      <th>CICLO</th>\n",
       "      <th>PROMEDIO_DE_NOTAS</th>\n",
       "      <th>DESAPROBO</th>\n",
       "      <th>INTERES</th>\n",
       "      <th>CONECTIVIDAD</th>\n",
       "      <th>ENFERMEDAD</th>\n",
       "      <th>FAMILIAR_ENFERMO</th>\n",
       "      <th>SOSTEN_FAMILIAR</th>\n",
       "      <th>INGRESO_FAMILIAR</th>\n",
       "    </tr>\n",
       "  </thead>\n",
       "  <tbody>\n",
       "    <tr>\n",
       "      <th>count</th>\n",
       "      <td>1500.000000</td>\n",
       "      <td>1500.000000</td>\n",
       "      <td>1500.000000</td>\n",
       "      <td>1500.000000</td>\n",
       "      <td>1500.000000</td>\n",
       "      <td>1500.000000</td>\n",
       "      <td>1500.000000</td>\n",
       "      <td>1500.000000</td>\n",
       "      <td>1500.000000</td>\n",
       "      <td>1500.000000</td>\n",
       "      <td>1500.000000</td>\n",
       "    </tr>\n",
       "    <tr>\n",
       "      <th>mean</th>\n",
       "      <td>19.633333</td>\n",
       "      <td>0.498667</td>\n",
       "      <td>2.948667</td>\n",
       "      <td>15.484267</td>\n",
       "      <td>0.268000</td>\n",
       "      <td>3.580000</td>\n",
       "      <td>0.505333</td>\n",
       "      <td>0.521333</td>\n",
       "      <td>0.490667</td>\n",
       "      <td>0.472000</td>\n",
       "      <td>0.590000</td>\n",
       "    </tr>\n",
       "    <tr>\n",
       "      <th>std</th>\n",
       "      <td>7.058997</td>\n",
       "      <td>0.500165</td>\n",
       "      <td>2.201499</td>\n",
       "      <td>2.059173</td>\n",
       "      <td>0.443065</td>\n",
       "      <td>1.082149</td>\n",
       "      <td>0.578095</td>\n",
       "      <td>0.499711</td>\n",
       "      <td>0.500080</td>\n",
       "      <td>0.499382</td>\n",
       "      <td>0.683773</td>\n",
       "    </tr>\n",
       "    <tr>\n",
       "      <th>min</th>\n",
       "      <td>16.000000</td>\n",
       "      <td>0.000000</td>\n",
       "      <td>1.000000</td>\n",
       "      <td>12.000000</td>\n",
       "      <td>0.000000</td>\n",
       "      <td>1.000000</td>\n",
       "      <td>0.000000</td>\n",
       "      <td>0.000000</td>\n",
       "      <td>0.000000</td>\n",
       "      <td>0.000000</td>\n",
       "      <td>0.000000</td>\n",
       "    </tr>\n",
       "    <tr>\n",
       "      <th>25%</th>\n",
       "      <td>16.000000</td>\n",
       "      <td>0.000000</td>\n",
       "      <td>1.000000</td>\n",
       "      <td>13.700000</td>\n",
       "      <td>0.000000</td>\n",
       "      <td>3.000000</td>\n",
       "      <td>0.000000</td>\n",
       "      <td>0.000000</td>\n",
       "      <td>0.000000</td>\n",
       "      <td>0.000000</td>\n",
       "      <td>0.000000</td>\n",
       "    </tr>\n",
       "    <tr>\n",
       "      <th>50%</th>\n",
       "      <td>17.000000</td>\n",
       "      <td>0.000000</td>\n",
       "      <td>2.000000</td>\n",
       "      <td>15.500000</td>\n",
       "      <td>0.000000</td>\n",
       "      <td>4.000000</td>\n",
       "      <td>0.000000</td>\n",
       "      <td>1.000000</td>\n",
       "      <td>0.000000</td>\n",
       "      <td>0.000000</td>\n",
       "      <td>0.000000</td>\n",
       "    </tr>\n",
       "    <tr>\n",
       "      <th>75%</th>\n",
       "      <td>18.000000</td>\n",
       "      <td>1.000000</td>\n",
       "      <td>4.000000</td>\n",
       "      <td>17.300000</td>\n",
       "      <td>1.000000</td>\n",
       "      <td>4.000000</td>\n",
       "      <td>1.000000</td>\n",
       "      <td>1.000000</td>\n",
       "      <td>1.000000</td>\n",
       "      <td>1.000000</td>\n",
       "      <td>1.000000</td>\n",
       "    </tr>\n",
       "    <tr>\n",
       "      <th>max</th>\n",
       "      <td>45.000000</td>\n",
       "      <td>1.000000</td>\n",
       "      <td>10.000000</td>\n",
       "      <td>19.000000</td>\n",
       "      <td>1.000000</td>\n",
       "      <td>5.000000</td>\n",
       "      <td>2.000000</td>\n",
       "      <td>1.000000</td>\n",
       "      <td>1.000000</td>\n",
       "      <td>1.000000</td>\n",
       "      <td>3.000000</td>\n",
       "    </tr>\n",
       "  </tbody>\n",
       "</table>\n",
       "</div>"
      ],
      "text/plain": [
       "              EDAD       GENERO        CICLO  PROMEDIO_DE_NOTAS    DESAPROBO  \\\n",
       "count  1500.000000  1500.000000  1500.000000        1500.000000  1500.000000   \n",
       "mean     19.633333     0.498667     2.948667          15.484267     0.268000   \n",
       "std       7.058997     0.500165     2.201499           2.059173     0.443065   \n",
       "min      16.000000     0.000000     1.000000          12.000000     0.000000   \n",
       "25%      16.000000     0.000000     1.000000          13.700000     0.000000   \n",
       "50%      17.000000     0.000000     2.000000          15.500000     0.000000   \n",
       "75%      18.000000     1.000000     4.000000          17.300000     1.000000   \n",
       "max      45.000000     1.000000    10.000000          19.000000     1.000000   \n",
       "\n",
       "           INTERES  CONECTIVIDAD   ENFERMEDAD  FAMILIAR_ENFERMO  \\\n",
       "count  1500.000000   1500.000000  1500.000000       1500.000000   \n",
       "mean      3.580000      0.505333     0.521333          0.490667   \n",
       "std       1.082149      0.578095     0.499711          0.500080   \n",
       "min       1.000000      0.000000     0.000000          0.000000   \n",
       "25%       3.000000      0.000000     0.000000          0.000000   \n",
       "50%       4.000000      0.000000     1.000000          0.000000   \n",
       "75%       4.000000      1.000000     1.000000          1.000000   \n",
       "max       5.000000      2.000000     1.000000          1.000000   \n",
       "\n",
       "       SOSTEN_FAMILIAR  INGRESO_FAMILIAR  \n",
       "count      1500.000000       1500.000000  \n",
       "mean          0.472000          0.590000  \n",
       "std           0.499382          0.683773  \n",
       "min           0.000000          0.000000  \n",
       "25%           0.000000          0.000000  \n",
       "50%           0.000000          0.000000  \n",
       "75%           1.000000          1.000000  \n",
       "max           1.000000          3.000000  "
      ]
     },
     "execution_count": 35,
     "metadata": {},
     "output_type": "execute_result"
    }
   ],
   "source": [
    "database_test.describe()"
   ]
  },
  {
   "cell_type": "code",
   "execution_count": 36,
   "metadata": {},
   "outputs": [
    {
     "data": {
      "text/html": [
       "<div>\n",
       "<style scoped>\n",
       "    .dataframe tbody tr th:only-of-type {\n",
       "        vertical-align: middle;\n",
       "    }\n",
       "\n",
       "    .dataframe tbody tr th {\n",
       "        vertical-align: top;\n",
       "    }\n",
       "\n",
       "    .dataframe thead th {\n",
       "        text-align: right;\n",
       "    }\n",
       "</style>\n",
       "<table border=\"1\" class=\"dataframe\">\n",
       "  <thead>\n",
       "    <tr style=\"text-align: right;\">\n",
       "      <th></th>\n",
       "      <th>EDAD</th>\n",
       "      <th>GENERO</th>\n",
       "      <th>CICLO</th>\n",
       "      <th>PROMEDIO_DE_NOTAS</th>\n",
       "      <th>DESAPROBO</th>\n",
       "      <th>INTERES</th>\n",
       "      <th>CONECTIVIDAD</th>\n",
       "      <th>ENFERMEDAD</th>\n",
       "      <th>FAMILIAR_ENFERMO</th>\n",
       "      <th>SOSTEN_FAMILIAR</th>\n",
       "      <th>INGRESO_FAMILIAR</th>\n",
       "      <th>DESERCION</th>\n",
       "    </tr>\n",
       "  </thead>\n",
       "  <tbody>\n",
       "    <tr>\n",
       "      <th>count</th>\n",
       "      <td>1500.000000</td>\n",
       "      <td>1500.000000</td>\n",
       "      <td>1500.000000</td>\n",
       "      <td>1500.000000</td>\n",
       "      <td>1500.000000</td>\n",
       "      <td>1500.000000</td>\n",
       "      <td>1500.000000</td>\n",
       "      <td>1500.000000</td>\n",
       "      <td>1500.000000</td>\n",
       "      <td>1500.000000</td>\n",
       "      <td>1500.000000</td>\n",
       "      <td>1500.000000</td>\n",
       "    </tr>\n",
       "    <tr>\n",
       "      <th>mean</th>\n",
       "      <td>19.633333</td>\n",
       "      <td>0.498667</td>\n",
       "      <td>2.948667</td>\n",
       "      <td>15.484267</td>\n",
       "      <td>0.268000</td>\n",
       "      <td>3.580000</td>\n",
       "      <td>0.505333</td>\n",
       "      <td>0.521333</td>\n",
       "      <td>0.490667</td>\n",
       "      <td>0.472000</td>\n",
       "      <td>0.590000</td>\n",
       "      <td>0.401333</td>\n",
       "    </tr>\n",
       "    <tr>\n",
       "      <th>std</th>\n",
       "      <td>7.058997</td>\n",
       "      <td>0.500165</td>\n",
       "      <td>2.201499</td>\n",
       "      <td>2.059173</td>\n",
       "      <td>0.443065</td>\n",
       "      <td>1.082149</td>\n",
       "      <td>0.578095</td>\n",
       "      <td>0.499711</td>\n",
       "      <td>0.500080</td>\n",
       "      <td>0.499382</td>\n",
       "      <td>0.683773</td>\n",
       "      <td>0.490332</td>\n",
       "    </tr>\n",
       "    <tr>\n",
       "      <th>min</th>\n",
       "      <td>16.000000</td>\n",
       "      <td>0.000000</td>\n",
       "      <td>1.000000</td>\n",
       "      <td>12.000000</td>\n",
       "      <td>0.000000</td>\n",
       "      <td>1.000000</td>\n",
       "      <td>0.000000</td>\n",
       "      <td>0.000000</td>\n",
       "      <td>0.000000</td>\n",
       "      <td>0.000000</td>\n",
       "      <td>0.000000</td>\n",
       "      <td>0.000000</td>\n",
       "    </tr>\n",
       "    <tr>\n",
       "      <th>25%</th>\n",
       "      <td>16.000000</td>\n",
       "      <td>0.000000</td>\n",
       "      <td>1.000000</td>\n",
       "      <td>13.700000</td>\n",
       "      <td>0.000000</td>\n",
       "      <td>3.000000</td>\n",
       "      <td>0.000000</td>\n",
       "      <td>0.000000</td>\n",
       "      <td>0.000000</td>\n",
       "      <td>0.000000</td>\n",
       "      <td>0.000000</td>\n",
       "      <td>0.000000</td>\n",
       "    </tr>\n",
       "    <tr>\n",
       "      <th>50%</th>\n",
       "      <td>17.000000</td>\n",
       "      <td>0.000000</td>\n",
       "      <td>2.000000</td>\n",
       "      <td>15.500000</td>\n",
       "      <td>0.000000</td>\n",
       "      <td>4.000000</td>\n",
       "      <td>0.000000</td>\n",
       "      <td>1.000000</td>\n",
       "      <td>0.000000</td>\n",
       "      <td>0.000000</td>\n",
       "      <td>0.000000</td>\n",
       "      <td>0.000000</td>\n",
       "    </tr>\n",
       "    <tr>\n",
       "      <th>75%</th>\n",
       "      <td>18.000000</td>\n",
       "      <td>1.000000</td>\n",
       "      <td>4.000000</td>\n",
       "      <td>17.300000</td>\n",
       "      <td>1.000000</td>\n",
       "      <td>4.000000</td>\n",
       "      <td>1.000000</td>\n",
       "      <td>1.000000</td>\n",
       "      <td>1.000000</td>\n",
       "      <td>1.000000</td>\n",
       "      <td>1.000000</td>\n",
       "      <td>1.000000</td>\n",
       "    </tr>\n",
       "    <tr>\n",
       "      <th>max</th>\n",
       "      <td>45.000000</td>\n",
       "      <td>1.000000</td>\n",
       "      <td>10.000000</td>\n",
       "      <td>19.000000</td>\n",
       "      <td>1.000000</td>\n",
       "      <td>5.000000</td>\n",
       "      <td>2.000000</td>\n",
       "      <td>1.000000</td>\n",
       "      <td>1.000000</td>\n",
       "      <td>1.000000</td>\n",
       "      <td>3.000000</td>\n",
       "      <td>1.000000</td>\n",
       "    </tr>\n",
       "  </tbody>\n",
       "</table>\n",
       "</div>"
      ],
      "text/plain": [
       "              EDAD       GENERO        CICLO  PROMEDIO_DE_NOTAS    DESAPROBO  \\\n",
       "count  1500.000000  1500.000000  1500.000000        1500.000000  1500.000000   \n",
       "mean     19.633333     0.498667     2.948667          15.484267     0.268000   \n",
       "std       7.058997     0.500165     2.201499           2.059173     0.443065   \n",
       "min      16.000000     0.000000     1.000000          12.000000     0.000000   \n",
       "25%      16.000000     0.000000     1.000000          13.700000     0.000000   \n",
       "50%      17.000000     0.000000     2.000000          15.500000     0.000000   \n",
       "75%      18.000000     1.000000     4.000000          17.300000     1.000000   \n",
       "max      45.000000     1.000000    10.000000          19.000000     1.000000   \n",
       "\n",
       "           INTERES  CONECTIVIDAD   ENFERMEDAD  FAMILIAR_ENFERMO  \\\n",
       "count  1500.000000   1500.000000  1500.000000       1500.000000   \n",
       "mean      3.580000      0.505333     0.521333          0.490667   \n",
       "std       1.082149      0.578095     0.499711          0.500080   \n",
       "min       1.000000      0.000000     0.000000          0.000000   \n",
       "25%       3.000000      0.000000     0.000000          0.000000   \n",
       "50%       4.000000      0.000000     1.000000          0.000000   \n",
       "75%       4.000000      1.000000     1.000000          1.000000   \n",
       "max       5.000000      2.000000     1.000000          1.000000   \n",
       "\n",
       "       SOSTEN_FAMILIAR  INGRESO_FAMILIAR    DESERCION  \n",
       "count      1500.000000       1500.000000  1500.000000  \n",
       "mean          0.472000          0.590000     0.401333  \n",
       "std           0.499382          0.683773     0.490332  \n",
       "min           0.000000          0.000000     0.000000  \n",
       "25%           0.000000          0.000000     0.000000  \n",
       "50%           0.000000          0.000000     0.000000  \n",
       "75%           1.000000          1.000000     1.000000  \n",
       "max           1.000000          3.000000     1.000000  "
      ]
     },
     "execution_count": 36,
     "metadata": {},
     "output_type": "execute_result"
    }
   ],
   "source": [
    "database_train.describe()"
   ]
  },
  {
   "cell_type": "markdown",
   "metadata": {},
   "source": [
    "### APLICACION DE ALGORITMOS DE MACHINE LEARNING"
   ]
  },
  {
   "cell_type": "markdown",
   "metadata": {},
   "source": [
    "#### Creando las variables predictoras X y nuestra variable objetivo Y"
   ]
  },
  {
   "cell_type": "code",
   "execution_count": 37,
   "metadata": {},
   "outputs": [],
   "source": [
    "X = database_train.drop('DESERCION',axis=1)\n",
    "y = database_train['DESERCION']"
   ]
  },
  {
   "cell_type": "markdown",
   "metadata": {},
   "source": [
    "#### Dividimos cada variable para el entrenamiento del modelo"
   ]
  },
  {
   "cell_type": "code",
   "execution_count": 38,
   "metadata": {},
   "outputs": [],
   "source": [
    "\n",
    "X_train, X_test, y_train, y_test= train_test_split(X,y,test_size = 0.15,random_state=1) #Separa el 15% de la data para generar las predicciones"
   ]
  },
  {
   "cell_type": "markdown",
   "metadata": {},
   "source": [
    "#### Revision del tamaño de datos de X y Y"
   ]
  },
  {
   "cell_type": "code",
   "execution_count": 39,
   "metadata": {},
   "outputs": [
    {
     "name": "stdout",
     "output_type": "stream",
     "text": [
      "Para el X_train: (1275, 11) y para el y_train (1275,)\n",
      "Para el X_test: (225, 11) y para el y_test (225,)\n"
     ]
    }
   ],
   "source": [
    "print('Para el X_train:', X_train.shape, 'y para el y_train',y_train.shape)\n",
    "print('Para el X_test:',X_test.shape,'y para el y_test',y_test.shape)"
   ]
  },
  {
   "cell_type": "markdown",
   "metadata": {},
   "source": [
    "#### Entrenando el modelo con el algoritmo de Regresion Logística"
   ]
  },
  {
   "cell_type": "code",
   "execution_count": 40,
   "metadata": {},
   "outputs": [
    {
     "name": "stderr",
     "output_type": "stream",
     "text": [
      "D:\\ProgramasDataScience\\envs\\UniversityDropout\\lib\\site-packages\\sklearn\\linear_model\\_logistic.py:763: ConvergenceWarning: lbfgs failed to converge (status=1):\n",
      "STOP: TOTAL NO. of ITERATIONS REACHED LIMIT.\n",
      "\n",
      "Increase the number of iterations (max_iter) or scale the data as shown in:\n",
      "    https://scikit-learn.org/stable/modules/preprocessing.html\n",
      "Please also refer to the documentation for alternative solver options:\n",
      "    https://scikit-learn.org/stable/modules/linear_model.html#logistic-regression\n",
      "  n_iter_i = _check_optimize_result(\n"
     ]
    },
    {
     "data": {
      "text/plain": [
       "array([0, 1, 0, 0, 1, 0, 0, 0, 0, 1, 0, 0, 0, 0, 0, 0, 1, 1, 0, 1, 0, 0,\n",
       "       1, 0, 0, 0, 0, 1, 0, 1, 0, 0, 0, 1, 0, 0, 0, 0, 1, 0, 0, 0, 0, 1,\n",
       "       0, 1, 0, 1, 0, 0, 0, 0, 1, 1, 0, 0, 0, 0, 0, 1, 0, 0, 0, 1, 0, 0,\n",
       "       0, 0, 0, 0, 0, 0, 1, 0, 0, 0, 0, 0, 0, 1, 0, 0, 0, 0, 1, 0, 0, 1,\n",
       "       0, 0, 1, 0, 0, 1, 1, 0, 1, 0, 0, 1, 0, 0, 0, 1, 1, 0, 0, 0, 1, 0,\n",
       "       1, 0, 1, 1, 0, 0, 0, 0, 0, 0, 0, 1, 1, 0, 1, 1, 0, 0, 0, 0, 0, 0,\n",
       "       0, 1, 0, 0, 1, 1, 1, 0, 1, 1, 1, 0, 0, 0, 0, 0, 0, 1, 0, 0, 0, 0,\n",
       "       0, 0, 0, 0, 0, 0, 1, 0, 0, 0, 0, 0, 0, 0, 1, 1, 0, 0, 0, 0, 1, 1,\n",
       "       0, 0, 0, 1, 0, 0, 0, 1, 0, 1, 0, 0, 0, 1, 0, 0, 1, 0, 0, 1, 1, 0,\n",
       "       0, 0, 0, 0, 0, 1, 0, 0, 0, 0, 0, 0, 0, 0, 0, 0, 0, 0, 0, 1, 0, 0,\n",
       "       0, 0, 0, 1, 0], dtype=int64)"
      ]
     },
     "execution_count": 40,
     "metadata": {},
     "output_type": "execute_result"
    }
   ],
   "source": [
    "logreg = LogisticRegression(random_state=1) #creamos la variable logreg para el modelo de regresión logística\n",
    "logreg_fit=logreg.fit(X_train, y_train) #entrenamos el modelo de regresión logística usando los datos de X_train, y_train\n",
    "logreg_pred = logreg_fit.predict(X_test) #generamos las predicciones con X_test usando el modelo de regresión logística \n",
    "                                                #Calculamos la probabilidades de obtener 1 (sí sobrevivió) con el método predict_proba\n",
    "logreg_pred #mostramos las predicciones generadas 0 cuando no sobrevive 1 cuando sí sobrevive"
   ]
  },
  {
   "cell_type": "markdown",
   "metadata": {},
   "source": [
    "####  Imprimir el accuracy"
   ]
  },
  {
   "cell_type": "code",
   "execution_count": 43,
   "metadata": {},
   "outputs": [
    {
     "name": "stdout",
     "output_type": "stream",
     "text": [
      "El accuracy para mi primero modelo es :0.71555556\n"
     ]
    }
   ],
   "source": [
    "print('El accuracy para mi primero modelo es :{0:.8f}'.format(accuracy_score(y_test,logreg_pred))) #usando la expresión regex .8f para mostrar 8 decimales"
   ]
  },
  {
   "cell_type": "markdown",
   "metadata": {},
   "source": [
    "#### Probabilidades de obtener 1 (sí desertó) con el método predict_proba"
   ]
  },
  {
   "cell_type": "code",
   "execution_count": 44,
   "metadata": {},
   "outputs": [
    {
     "data": {
      "text/plain": [
       "array([0.27997159, 0.71518809, 0.33538967, 0.38902092, 0.62763327,\n",
       "       0.13413276, 0.13649801, 0.35616323, 0.17272632, 0.74634213,\n",
       "       0.13860874, 0.27619173, 0.37241362, 0.36607298, 0.12955072,\n",
       "       0.1640428 , 0.7206701 , 0.63688046, 0.12738149, 0.64666779,\n",
       "       0.41633319, 0.39874897, 0.68064174, 0.39674906, 0.36776045,\n",
       "       0.41659776, 0.1642065 , 0.70950985, 0.39053843, 0.69832584,\n",
       "       0.4650075 , 0.44488789, 0.14019474, 0.74495646, 0.10359758,\n",
       "       0.42756162, 0.35680448, 0.36240071, 0.61016876, 0.15521873,\n",
       "       0.11372756, 0.28434319, 0.34787908, 0.69398948, 0.46142406,\n",
       "       0.65202067, 0.14569896, 0.65371795, 0.31703775, 0.10346584,\n",
       "       0.42208608, 0.39716285, 0.69924603, 0.69557411, 0.12489188,\n",
       "       0.13808755, 0.4018305 , 0.10408293, 0.42353031, 0.73112529,\n",
       "       0.39030814, 0.36566068, 0.3759587 , 0.73151627, 0.31695741,\n",
       "       0.30728451, 0.40980725, 0.1310712 , 0.1376413 , 0.33744441,\n",
       "       0.42838962, 0.17464061, 0.69464205, 0.16677852, 0.37754794,\n",
       "       0.35003109, 0.13117418, 0.39206057, 0.31211777, 0.65818745,\n",
       "       0.37588769, 0.46083486, 0.13124387, 0.45620338, 0.64627204,\n",
       "       0.45167826, 0.14349178, 0.68551636, 0.44950983, 0.12770008,\n",
       "       0.71001626, 0.13631522, 0.32121599, 0.74379986, 0.63802071,\n",
       "       0.38933689, 0.72970827, 0.35999821, 0.32983752, 0.63773649,\n",
       "       0.12554074, 0.1260748 , 0.14541515, 0.70159007, 0.6509626 ,\n",
       "       0.4692702 , 0.35990631, 0.38773028, 0.69993051, 0.17839856,\n",
       "       0.70253271, 0.42047774, 0.70544755, 0.66382752, 0.14021052,\n",
       "       0.13331133, 0.33205873, 0.40021185, 0.35257391, 0.13938027,\n",
       "       0.15951955, 0.65840358, 0.66941481, 0.35581714, 0.76555576,\n",
       "       0.74561902, 0.31685459, 0.16657399, 0.28707685, 0.36826261,\n",
       "       0.39823324, 0.4127908 , 0.15208202, 0.71688201, 0.30552678,\n",
       "       0.40103793, 0.64470549, 0.73486821, 0.68486633, 0.32544562,\n",
       "       0.73276309, 0.69708962, 0.64962587, 0.37041866, 0.3290249 ,\n",
       "       0.10387623, 0.36587618, 0.128043  , 0.35616927, 0.67224775,\n",
       "       0.13418016, 0.38282446, 0.10684596, 0.41862115, 0.120825  ,\n",
       "       0.42753235, 0.11388938, 0.35964449, 0.45246321, 0.35076949,\n",
       "       0.74200313, 0.38619068, 0.40546815, 0.32508253, 0.34708426,\n",
       "       0.09326348, 0.40015179, 0.15468504, 0.73079655, 0.70349625,\n",
       "       0.10707579, 0.3273675 , 0.37267629, 0.15984179, 0.65452436,\n",
       "       0.69390231, 0.31954324, 0.34907298, 0.30442314, 0.72904837,\n",
       "       0.38461771, 0.14023963, 0.39234097, 0.6700957 , 0.42709337,\n",
       "       0.6453859 , 0.35398897, 0.39280034, 0.38726007, 0.72870993,\n",
       "       0.3826615 , 0.16262481, 0.6212982 , 0.41594634, 0.37342581,\n",
       "       0.65142205, 0.73582287, 0.32722416, 0.13851396, 0.18172006,\n",
       "       0.46207105, 0.37316758, 0.41116179, 0.71033346, 0.349224  ,\n",
       "       0.34227591, 0.40497701, 0.13026096, 0.34450316, 0.41293209,\n",
       "       0.46589147, 0.10821059, 0.37960493, 0.11162547, 0.39993586,\n",
       "       0.30643459, 0.40074896, 0.66495276, 0.15995318, 0.33957081,\n",
       "       0.35265327, 0.33721968, 0.14508071, 0.6794678 , 0.43633374])"
      ]
     },
     "execution_count": 44,
     "metadata": {},
     "output_type": "execute_result"
    }
   ],
   "source": [
    "#Calculamos la probabilidades de obtener 1 (sí sobrevivió) con el método predict_proba\n",
    "proba_pred_test = logreg.predict_proba(X_test)[:,1]\n",
    "proba_pred_test"
   ]
  },
  {
   "cell_type": "markdown",
   "metadata": {},
   "source": [
    "#### Entrenando el modelo con el algoritmo de DecisionTreeClassifier"
   ]
  },
  {
   "cell_type": "code",
   "execution_count": 45,
   "metadata": {},
   "outputs": [
    {
     "data": {
      "text/plain": [
       "array([0, 1, 0, 0, 0, 0, 0, 0, 0, 1, 0, 0, 1, 1, 0, 0, 0, 0, 0, 0, 1, 0,\n",
       "       1, 1, 0, 0, 0, 0, 0, 1, 1, 0, 0, 0, 1, 0, 0, 0, 0, 0, 0, 0, 0, 1,\n",
       "       1, 0, 1, 0, 1, 0, 0, 0, 1, 1, 1, 0, 0, 0, 0, 1, 0, 0, 0, 1, 0, 0,\n",
       "       0, 1, 0, 0, 1, 0, 1, 0, 1, 0, 1, 0, 1, 1, 1, 1, 1, 1, 1, 1, 0, 1,\n",
       "       1, 0, 1, 1, 1, 1, 1, 1, 1, 1, 0, 1, 1, 0, 0, 1, 1, 0, 0, 1, 0, 0,\n",
       "       1, 0, 1, 1, 0, 0, 0, 0, 1, 1, 0, 1, 1, 1, 1, 1, 1, 1, 0, 1, 1, 0,\n",
       "       0, 1, 0, 0, 1, 0, 1, 1, 1, 1, 1, 0, 0, 0, 0, 0, 1, 1, 0, 0, 1, 0,\n",
       "       0, 0, 0, 0, 1, 0, 1, 0, 0, 1, 0, 0, 1, 0, 1, 1, 0, 1, 0, 0, 1, 1,\n",
       "       0, 0, 0, 1, 1, 1, 1, 1, 1, 1, 1, 0, 1, 1, 0, 0, 1, 1, 0, 0, 1, 0,\n",
       "       0, 0, 1, 0, 0, 1, 1, 0, 1, 0, 0, 1, 1, 0, 0, 0, 0, 0, 1, 1, 0, 0,\n",
       "       0, 0, 0, 0, 1], dtype=int64)"
      ]
     },
     "execution_count": 45,
     "metadata": {},
     "output_type": "execute_result"
    }
   ],
   "source": [
    "tree_clf = DecisionTreeClassifier(random_state=1) #creamos la variable tree_clf para el modelo de árbol de clasificación\n",
    "clf_fit=tree_clf.fit(X_train,y_train) #entrenamos el modelo de árbol de clasificación usando los datos de X_train, y_train\n",
    "tree_y_pred = clf_fit.predict(X_test)#generamos las predicciones con X_test usando el modelo de árbol de clasificación\n",
    "tree_y_pred  #mostramos las predicciones generadas 0 cuando no deserta 1 cuando sí deserta"
   ]
  },
  {
   "cell_type": "markdown",
   "metadata": {},
   "source": [
    "#### Imprimir el accuracy"
   ]
  },
  {
   "cell_type": "code",
   "execution_count": 46,
   "metadata": {},
   "outputs": [
    {
     "name": "stdout",
     "output_type": "stream",
     "text": [
      "El accuracy para mi segundo modelo es :0.61777778\n"
     ]
    }
   ],
   "source": [
    "print('El accuracy para mi segundo modelo es :{0:.8f}'.format(accuracy_score(y_test,tree_y_pred))) #usando la expresión regex .8f para mostrar 8 decimales"
   ]
  },
  {
   "cell_type": "markdown",
   "metadata": {},
   "source": [
    "#### Probabilidades de obtener 1 (sí desertó) con el método predict_proba"
   ]
  },
  {
   "cell_type": "code",
   "execution_count": 47,
   "metadata": {},
   "outputs": [
    {
     "data": {
      "text/plain": [
       "array([0., 1., 0., 0., 0., 0., 0., 0., 0., 1., 0., 0., 1., 1., 0., 0., 0.,\n",
       "       0., 0., 0., 1., 0., 1., 1., 0., 0., 0., 0., 0., 1., 1., 0., 0., 0.,\n",
       "       1., 0., 0., 0., 0., 0., 0., 0., 0., 1., 1., 0., 1., 0., 1., 0., 0.,\n",
       "       0., 1., 1., 1., 0., 0., 0., 0., 1., 0., 0., 0., 1., 0., 0., 0., 1.,\n",
       "       0., 0., 1., 0., 1., 0., 1., 0., 1., 0., 1., 1., 1., 1., 1., 1., 1.,\n",
       "       1., 0., 1., 1., 0., 1., 1., 1., 1., 1., 1., 1., 1., 0., 1., 1., 0.,\n",
       "       0., 1., 1., 0., 0., 1., 0., 0., 1., 0., 1., 1., 0., 0., 0., 0., 1.,\n",
       "       1., 0., 1., 1., 1., 1., 1., 1., 1., 0., 1., 1., 0., 0., 1., 0., 0.,\n",
       "       1., 0., 1., 1., 1., 1., 1., 0., 0., 0., 0., 0., 1., 1., 0., 0., 1.,\n",
       "       0., 0., 0., 0., 0., 1., 0., 1., 0., 0., 1., 0., 0., 1., 0., 1., 1.,\n",
       "       0., 1., 0., 0., 1., 1., 0., 0., 0., 1., 1., 1., 1., 1., 1., 1., 1.,\n",
       "       0., 1., 1., 0., 0., 1., 1., 0., 0., 1., 0., 0., 0., 1., 0., 0., 1.,\n",
       "       1., 0., 1., 0., 0., 1., 1., 0., 0., 0., 0., 0., 1., 1., 0., 0., 0.,\n",
       "       0., 0., 0., 1.])"
      ]
     },
     "execution_count": 47,
     "metadata": {},
     "output_type": "execute_result"
    }
   ],
   "source": [
    "proba_pred_test = tree_clf.predict_proba(X_test)[:,1]\n",
    "proba_pred_test"
   ]
  },
  {
   "cell_type": "markdown",
   "metadata": {},
   "source": [
    "#### Entrenando el modelo con el algoritmo de RandomForestClassifier"
   ]
  },
  {
   "cell_type": "code",
   "execution_count": 48,
   "metadata": {},
   "outputs": [
    {
     "data": {
      "text/plain": [
       "array([0, 1, 0, 0, 1, 0, 0, 0, 0, 1, 0, 0, 0, 0, 0, 0, 1, 1, 0, 1, 0, 0,\n",
       "       1, 0, 0, 0, 0, 1, 0, 1, 0, 0, 0, 1, 0, 0, 0, 0, 0, 0, 0, 0, 0, 1,\n",
       "       0, 1, 0, 1, 0, 0, 0, 0, 1, 1, 0, 0, 0, 0, 0, 1, 0, 0, 0, 1, 0, 0,\n",
       "       0, 0, 0, 0, 0, 0, 1, 0, 0, 0, 0, 0, 0, 1, 0, 0, 0, 0, 1, 0, 0, 1,\n",
       "       0, 0, 1, 0, 0, 1, 1, 0, 1, 0, 0, 1, 0, 0, 0, 1, 1, 0, 0, 0, 1, 0,\n",
       "       1, 0, 1, 1, 0, 0, 0, 0, 0, 0, 0, 1, 1, 0, 1, 1, 0, 0, 0, 0, 0, 0,\n",
       "       0, 1, 0, 0, 1, 1, 1, 0, 1, 1, 1, 0, 0, 0, 0, 0, 0, 1, 0, 0, 0, 0,\n",
       "       0, 0, 0, 0, 0, 0, 1, 0, 0, 0, 0, 0, 0, 0, 1, 1, 0, 0, 0, 0, 1, 1,\n",
       "       0, 0, 0, 1, 0, 0, 0, 1, 0, 1, 0, 0, 0, 1, 0, 0, 1, 0, 0, 1, 1, 0,\n",
       "       0, 0, 0, 0, 0, 1, 0, 0, 0, 0, 0, 0, 0, 0, 0, 0, 0, 0, 0, 1, 0, 0,\n",
       "       0, 0, 0, 1, 0], dtype=int64)"
      ]
     },
     "execution_count": 48,
     "metadata": {},
     "output_type": "execute_result"
    }
   ],
   "source": [
    "rnd_clf = RandomForestClassifier(n_estimators = 1000, n_jobs = -1,max_depth=3,random_state=1) #creamos la variable tree_clf para el modelo de random forest\n",
    "rdn_clf_fit=rnd_clf.fit(X_train,y_train) #entrenamos el modelo de random forest usando los datos de X_train, y_train\n",
    "y_pred_rnd = rdn_clf_fit.predict(X_test) #generamos las predicciones con X_test usando el modelo de random forest\n",
    "y_pred_rnd #mostramos las predicciones generadas 0 cuando no deserta 1 cuando sí deserta"
   ]
  },
  {
   "cell_type": "markdown",
   "metadata": {},
   "source": [
    "#### Imprimir el accuracy"
   ]
  },
  {
   "cell_type": "code",
   "execution_count": 49,
   "metadata": {},
   "outputs": [
    {
     "name": "stdout",
     "output_type": "stream",
     "text": [
      "El accuracy para mi tercer modelo es :0.72000000\n"
     ]
    }
   ],
   "source": [
    "print('El accuracy para mi tercer modelo es :{0:.8f}'.format(accuracy_score(y_test,y_pred_rnd))) #usando la expresión regex .8f para mostrar 8 decimales"
   ]
  },
  {
   "cell_type": "markdown",
   "metadata": {},
   "source": [
    "#### Probabilidades de obtener 1 (sí desertó) con el método predict_proba"
   ]
  },
  {
   "cell_type": "code",
   "execution_count": 50,
   "metadata": {},
   "outputs": [
    {
     "data": {
      "text/plain": [
       "array([0.35331209, 0.55257478, 0.36024296, 0.35878284, 0.58359402,\n",
       "       0.25496703, 0.25087302, 0.36753438, 0.25387017, 0.56124297,\n",
       "       0.24565072, 0.38896981, 0.36370208, 0.35842877, 0.24205053,\n",
       "       0.2626156 , 0.54406561, 0.55105049, 0.25189837, 0.54767498,\n",
       "       0.36273006, 0.42732307, 0.59248524, 0.40682237, 0.33621676,\n",
       "       0.37092188, 0.2574689 , 0.57061145, 0.40957639, 0.56880765,\n",
       "       0.44346654, 0.38641089, 0.25116989, 0.59292413, 0.23714981,\n",
       "       0.36661843, 0.36017393, 0.36354635, 0.48819436, 0.25671024,\n",
       "       0.23984726, 0.38301434, 0.35432682, 0.55561771, 0.42188984,\n",
       "       0.5511211 , 0.24771436, 0.54145256, 0.38080374, 0.23032297,\n",
       "       0.36456978, 0.36447561, 0.59313813, 0.55674562, 0.30207024,\n",
       "       0.24796887, 0.37867128, 0.25414468, 0.40788955, 0.5758785 ,\n",
       "       0.36270289, 0.36667255, 0.3586742 , 0.58792593, 0.37887846,\n",
       "       0.34140494, 0.3930884 , 0.23352481, 0.24917436, 0.36035838,\n",
       "       0.36465724, 0.29980259, 0.55853129, 0.25530752, 0.36132736,\n",
       "       0.40893061, 0.25737017, 0.34586636, 0.36538049, 0.54164784,\n",
       "       0.36733042, 0.44224403, 0.31212903, 0.44086313, 0.55560112,\n",
       "       0.43749   , 0.2482963 , 0.56329283, 0.41995334, 0.24881701,\n",
       "       0.55576096, 0.24977213, 0.38063865, 0.57204999, 0.51958622,\n",
       "       0.36302063, 0.53390638, 0.36427467, 0.35298339, 0.57784412,\n",
       "       0.31508066, 0.23763486, 0.24609817, 0.56553479, 0.53626001,\n",
       "       0.42736062, 0.35854454, 0.34991993, 0.56642128, 0.25703912,\n",
       "       0.58762171, 0.35912593, 0.58997046, 0.55243778, 0.24306952,\n",
       "       0.28721304, 0.35426267, 0.37247176, 0.40499446, 0.24336916,\n",
       "       0.25280119, 0.57927603, 0.55620176, 0.37932413, 0.55825088,\n",
       "       0.60521635, 0.35376569, 0.25705216, 0.35654315, 0.42838865,\n",
       "       0.36504831, 0.36396406, 0.24073492, 0.57078061, 0.34203932,\n",
       "       0.42297703, 0.56079032, 0.56656923, 0.57359107, 0.36102272,\n",
       "       0.59363792, 0.57769328, 0.57980998, 0.36311248, 0.39030714,\n",
       "       0.26114333, 0.36145988, 0.23746576, 0.40186915, 0.53363109,\n",
       "       0.24854249, 0.40618924, 0.2323    , 0.40352986, 0.23947262,\n",
       "       0.37163165, 0.2459152 , 0.37555425, 0.44961516, 0.40094883,\n",
       "       0.57857629, 0.34756833, 0.35116015, 0.35249029, 0.37301507,\n",
       "       0.23595069, 0.35829285, 0.25651791, 0.58427003, 0.56848924,\n",
       "       0.25345112, 0.35778145, 0.40657464, 0.25812595, 0.5803905 ,\n",
       "       0.55794378, 0.35120221, 0.39859911, 0.34279101, 0.55372999,\n",
       "       0.37825435, 0.2571579 , 0.4112954 , 0.54941375, 0.36087288,\n",
       "       0.56377209, 0.35684639, 0.36400388, 0.4034258 , 0.57128629,\n",
       "       0.4045873 , 0.23629404, 0.55454877, 0.36241699, 0.41057901,\n",
       "       0.53571304, 0.58882485, 0.37134604, 0.24666886, 0.259947  ,\n",
       "       0.44175162, 0.31925992, 0.3681977 , 0.59023275, 0.37738077,\n",
       "       0.41469816, 0.42954924, 0.26745958, 0.36359089, 0.35760945,\n",
       "       0.42642213, 0.27344198, 0.40957753, 0.24116058, 0.34972538,\n",
       "       0.37314298, 0.41801997, 0.53707685, 0.2584248 , 0.34658102,\n",
       "       0.3602226 , 0.40287081, 0.25365439, 0.58124738, 0.42753925])"
      ]
     },
     "execution_count": 50,
     "metadata": {},
     "output_type": "execute_result"
    }
   ],
   "source": [
    "proba_pred_test = rnd_clf.predict_proba(X_test)[:,1]\n",
    "proba_pred_test"
   ]
  },
  {
   "cell_type": "markdown",
   "metadata": {},
   "source": [
    "#### XGBoost"
   ]
  },
  {
   "cell_type": "code",
   "execution_count": 61,
   "metadata": {
    "scrolled": true
   },
   "outputs": [
    {
     "data": {
      "text/plain": [
       "(91      1\n",
       " 75      0\n",
       " 1264    1\n",
       " 330     1\n",
       " 1349    1\n",
       "        ..\n",
       " 943     0\n",
       " 1471    1\n",
       " 661     1\n",
       " 1135    1\n",
       " 1171    0\n",
       " Name: DESERCION, Length: 225, dtype: int64,\n",
       " array([0, 1, 0, 0, 1, 0, 0, 0, 0, 1, 0, 0, 0, 0, 0, 0, 0, 0, 0, 1, 0, 1,\n",
       "        1, 0, 0, 1, 0, 1, 0, 1, 1, 0, 0, 1, 0, 0, 0, 0, 0, 0, 0, 1, 0, 1,\n",
       "        0, 0, 0, 1, 0, 0, 0, 0, 1, 1, 0, 0, 0, 0, 1, 1, 1, 0, 0, 1, 0, 0,\n",
       "        1, 0, 0, 0, 0, 0, 1, 0, 0, 0, 0, 0, 0, 0, 0, 1, 0, 1, 1, 1, 0, 1,\n",
       "        0, 0, 1, 0, 0, 1, 0, 0, 1, 0, 0, 1, 0, 0, 0, 1, 1, 1, 0, 0, 1, 0,\n",
       "        1, 0, 1, 1, 0, 0, 0, 0, 0, 0, 0, 1, 1, 0, 1, 1, 0, 0, 0, 0, 0, 0,\n",
       "        0, 1, 0, 0, 1, 1, 1, 0, 1, 1, 1, 0, 1, 0, 0, 0, 0, 0, 0, 1, 0, 0,\n",
       "        0, 0, 0, 0, 1, 0, 1, 0, 0, 0, 1, 0, 0, 0, 1, 1, 0, 0, 0, 0, 1, 1,\n",
       "        0, 0, 0, 0, 0, 0, 1, 1, 0, 1, 0, 0, 1, 1, 1, 0, 1, 0, 1, 1, 1, 1,\n",
       "        0, 0, 1, 0, 1, 1, 0, 1, 0, 0, 0, 1, 1, 0, 1, 0, 0, 0, 1, 1, 0, 0,\n",
       "        0, 0, 0, 1, 1]))"
      ]
     },
     "execution_count": 61,
     "metadata": {},
     "output_type": "execute_result"
    }
   ],
   "source": [
    "xgb_model = XGBClassifier(eta=0.1, \n",
    "                                  max_depth=8, \n",
    "                                  colsample_bytree=0.5, \n",
    "                                  scale_pos_weight=1.1, \n",
    "                                  booster='gbtree', \n",
    "                                  use_label_encoder=False,\n",
    "                                  eval_metric='mlogloss')\n",
    "xgb_fit = xgb_model.fit(X_train._get_numeric_data(), np.ravel(y_train, order='C'))\n",
    "xgb_pred = xgb_fit.predict(X_test._get_numeric_data())\n",
    "(y_test, xgb_pred )\n"
   ]
  },
  {
   "cell_type": "code",
   "execution_count": 62,
   "metadata": {},
   "outputs": [
    {
     "name": "stdout",
     "output_type": "stream",
     "text": [
      "El accuracy para mi cuarto modelo es :0.68000000\n"
     ]
    }
   ],
   "source": [
    "print('El accuracy para mi cuarto modelo es :{0:.8f}'.format(accuracy_score(y_test, xgb_pred ))) #usando la expresión regex .8f para mostrar 8 decimales"
   ]
  },
  {
   "cell_type": "markdown",
   "metadata": {},
   "source": [
    "#### Curva ROC para todos los modelos"
   ]
  },
  {
   "cell_type": "markdown",
   "metadata": {},
   "source": [
    "##### Creamos la variable clasificadores para guardar los modelos actualizados"
   ]
  },
  {
   "cell_type": "code",
   "execution_count": 63,
   "metadata": {},
   "outputs": [],
   "source": [
    "clasificadores = [logreg_fit, clf_fit, rdn_clf_fit, xgb_fit] "
   ]
  },
  {
   "cell_type": "markdown",
   "metadata": {},
   "source": [
    "#### Creamos una función para obtener los parámetros de la curva ROC para cada uno de los modelos actualizados"
   ]
  },
  {
   "cell_type": "code",
   "execution_count": 64,
   "metadata": {},
   "outputs": [
    {
     "name": "stderr",
     "output_type": "stream",
     "text": [
      "D:\\ProgramasDataScience\\envs\\UniversityDropout\\lib\\site-packages\\sklearn\\linear_model\\_logistic.py:763: ConvergenceWarning: lbfgs failed to converge (status=1):\n",
      "STOP: TOTAL NO. of ITERATIONS REACHED LIMIT.\n",
      "\n",
      "Increase the number of iterations (max_iter) or scale the data as shown in:\n",
      "    https://scikit-learn.org/stable/modules/preprocessing.html\n",
      "Please also refer to the documentation for alternative solver options:\n",
      "    https://scikit-learn.org/stable/modules/linear_model.html#logistic-regression\n",
      "  n_iter_i = _check_optimize_result(\n"
     ]
    }
   ],
   "source": [
    "tabla_resultados = pd.DataFrame(columns=['clasificadores', 'fpr','tpr','auc'])\n",
    "for cls in clasificadores:\n",
    "    model = cls.fit(X_train, y_train)\n",
    "    yproba = model.predict_proba(X_test)[:,1]\n",
    "    fpr, tpr, _ = roc_curve(y_test, yproba)\n",
    "    auc = roc_auc_score(y_test, yproba)\n",
    "    tabla_resultados = tabla_resultados.append({'clasificadores':None,'fpr':fpr,'tpr':tpr,'auc':auc}, ignore_index=True)"
   ]
  },
  {
   "cell_type": "markdown",
   "metadata": {},
   "source": [
    "#### Mostramos la tabla_resultados declarando como índices el nombre de cada uno de los modelos\n"
   ]
  },
  {
   "cell_type": "code",
   "execution_count": 65,
   "metadata": {},
   "outputs": [
    {
     "data": {
      "text/html": [
       "<div>\n",
       "<style scoped>\n",
       "    .dataframe tbody tr th:only-of-type {\n",
       "        vertical-align: middle;\n",
       "    }\n",
       "\n",
       "    .dataframe tbody tr th {\n",
       "        vertical-align: top;\n",
       "    }\n",
       "\n",
       "    .dataframe thead th {\n",
       "        text-align: right;\n",
       "    }\n",
       "</style>\n",
       "<table border=\"1\" class=\"dataframe\">\n",
       "  <thead>\n",
       "    <tr style=\"text-align: right;\">\n",
       "      <th></th>\n",
       "      <th>fpr</th>\n",
       "      <th>tpr</th>\n",
       "      <th>auc</th>\n",
       "    </tr>\n",
       "    <tr>\n",
       "      <th>clasificadores</th>\n",
       "      <th></th>\n",
       "      <th></th>\n",
       "      <th></th>\n",
       "    </tr>\n",
       "  </thead>\n",
       "  <tbody>\n",
       "    <tr>\n",
       "      <th>regresion_logistica</th>\n",
       "      <td>[0.0, 0.007751937984496124, 0.0077519379844961...</td>\n",
       "      <td>[0.0, 0.0, 0.020833333333333332, 0.02083333333...</td>\n",
       "      <td>0.726663</td>\n",
       "    </tr>\n",
       "    <tr>\n",
       "      <th>arbol_clasificacion</th>\n",
       "      <td>[0.0, 0.35658914728682173, 1.0]</td>\n",
       "      <td>[0.0, 0.5833333333333334, 1.0]</td>\n",
       "      <td>0.613372</td>\n",
       "    </tr>\n",
       "    <tr>\n",
       "      <th>random_forest</th>\n",
       "      <td>[0.0, 0.0, 0.0, 0.007751937984496124, 0.007751...</td>\n",
       "      <td>[0.0, 0.010416666666666666, 0.03125, 0.03125, ...</td>\n",
       "      <td>0.717862</td>\n",
       "    </tr>\n",
       "    <tr>\n",
       "      <th>XgBoost</th>\n",
       "      <td>[0.0, 0.0, 0.0, 0.03875968992248062, 0.0387596...</td>\n",
       "      <td>[0.0, 0.010416666666666666, 0.0208333333333333...</td>\n",
       "      <td>0.671512</td>\n",
       "    </tr>\n",
       "  </tbody>\n",
       "</table>\n",
       "</div>"
      ],
      "text/plain": [
       "                                                                   fpr  \\\n",
       "clasificadores                                                           \n",
       "regresion_logistica  [0.0, 0.007751937984496124, 0.0077519379844961...   \n",
       "arbol_clasificacion                    [0.0, 0.35658914728682173, 1.0]   \n",
       "random_forest        [0.0, 0.0, 0.0, 0.007751937984496124, 0.007751...   \n",
       "XgBoost              [0.0, 0.0, 0.0, 0.03875968992248062, 0.0387596...   \n",
       "\n",
       "                                                                   tpr  \\\n",
       "clasificadores                                                           \n",
       "regresion_logistica  [0.0, 0.0, 0.020833333333333332, 0.02083333333...   \n",
       "arbol_clasificacion                     [0.0, 0.5833333333333334, 1.0]   \n",
       "random_forest        [0.0, 0.010416666666666666, 0.03125, 0.03125, ...   \n",
       "XgBoost              [0.0, 0.010416666666666666, 0.0208333333333333...   \n",
       "\n",
       "                          auc  \n",
       "clasificadores                 \n",
       "regresion_logistica  0.726663  \n",
       "arbol_clasificacion  0.613372  \n",
       "random_forest        0.717862  \n",
       "XgBoost              0.671512  "
      ]
     },
     "execution_count": 65,
     "metadata": {},
     "output_type": "execute_result"
    }
   ],
   "source": [
    "tabla_resultados['clasificadores'] = ['regresion_logistica','arbol_clasificacion','random_forest', 'XgBoost']\n",
    "tabla_resultados.set_index('clasificadores', inplace=True)\n",
    "tabla_resultados"
   ]
  },
  {
   "cell_type": "markdown",
   "metadata": {},
   "source": [
    "#### Dibujamos la curva ROC con los parámetros obtenidos para cada uno de los modelos actualizados\n"
   ]
  },
  {
   "cell_type": "code",
   "execution_count": 66,
   "metadata": {},
   "outputs": [
    {
     "data": {
      "image/png": "[encoded data removed]",
      "text/plain": [
       "<Figure size 576x432 with 1 Axes>"
      ]
     },
     "metadata": {
      "needs_background": "light"
     },
     "output_type": "display_data"
    }
   ],
   "source": [
    "fig = plt.figure(figsize=(8,6))\n",
    "\n",
    "for i in tabla_resultados.index:\n",
    "    plt.plot(tabla_resultados.loc[i]['fpr'], \n",
    "             tabla_resultados.loc[i]['tpr'], \n",
    "             label=\"{}, AUC={:.4f}\".format(i, tabla_resultados.loc[i]['auc']))\n",
    "    \n",
    "plt.plot([0,1], [0,1], color='orange', linestyle='--')\n",
    "\n",
    "plt.xticks(np.arange(0.0, 1.1, step=0.1))\n",
    "plt.xlabel(\"Falsos Positivos\", fontsize=15)\n",
    "\n",
    "plt.yticks(np.arange(0.0, 1.1, step=0.1))\n",
    "plt.ylabel(\"Verdaderos Positivos\", fontsize=15)\n",
    "\n",
    "plt.title('Análisis de la curva ROC', fontweight='bold', fontsize=15)\n",
    "plt.legend(prop={'size':12}, loc='lower right')\n",
    "\n",
    "plt.show()"
   ]
  },
  {
   "cell_type": "markdown",
   "metadata": {},
   "source": [
    "#### Variamos la profundidad de las ramas de los árboles de clasificación"
   ]
  },
  {
   "cell_type": "code",
   "execution_count": 67,
   "metadata": {},
   "outputs": [
    {
     "name": "stdout",
     "output_type": "stream",
     "text": [
      "Mi árbol da un accuracy de: 0.6533333333333333 cuando su max_depth es:  1\n",
      "Mi árbol da un accuracy de: 0.7155555555555555 cuando su max_depth es:  2\n",
      "Mi árbol da un accuracy de: 0.7066666666666667 cuando su max_depth es:  3\n",
      "Mi árbol da un accuracy de: 0.7155555555555555 cuando su max_depth es:  4\n",
      "Mi árbol da un accuracy de: 0.72 cuando su max_depth es:  5\n",
      "Mi árbol da un accuracy de: 0.6711111111111111 cuando su max_depth es:  6\n",
      "Mi árbol da un accuracy de: 0.6577777777777778 cuando su max_depth es:  7\n",
      "Mi árbol da un accuracy de: 0.6711111111111111 cuando su max_depth es:  8\n",
      "Mi árbol da un accuracy de: 0.6088888888888889 cuando su max_depth es:  9\n"
     ]
    }
   ],
   "source": [
    "for i in range(1,10):\n",
    "    tree_clf = DecisionTreeClassifier(max_depth=i)\n",
    "    tree_clf.fit(X_train,y_train)\n",
    "    y_pred = tree_clf.predict(X_test)\n",
    "    print(\"Mi árbol da un accuracy de:\", accuracy_score(y_test,y_pred), \"cuando su max_depth es: \", i)"
   ]
  },
  {
   "cell_type": "code",
   "execution_count": 68,
   "metadata": {},
   "outputs": [
    {
     "name": "stdout",
     "output_type": "stream",
     "text": [
      "Mi árbol da un accuracy de: 0.5733333333333334 cuando su max_depth es:  1\n",
      "Mi árbol da un accuracy de: 0.6888888888888889 cuando su max_depth es:  2\n",
      "Mi árbol da un accuracy de: 0.72 cuando su max_depth es:  3\n",
      "Mi árbol da un accuracy de: 0.72 cuando su max_depth es:  4\n",
      "Mi árbol da un accuracy de: 0.7155555555555555 cuando su max_depth es:  5\n",
      "Mi árbol da un accuracy de: 0.72 cuando su max_depth es:  6\n",
      "Mi árbol da un accuracy de: 0.72 cuando su max_depth es:  7\n",
      "Mi árbol da un accuracy de: 0.7111111111111111 cuando su max_depth es:  8\n",
      "Mi árbol da un accuracy de: 0.7022222222222222 cuando su max_depth es:  9\n"
     ]
    }
   ],
   "source": [
    "for i in range(1,10):\n",
    "    rnd_clf = RandomForestClassifier(max_depth=i)\n",
    "    rnd_clf.fit(X_train,y_train)\n",
    "    y_pred = rnd_clf.predict(X_test)\n",
    "    print(\"Mi árbol da un accuracy de:\", accuracy_score(y_test,y_pred), \"cuando su max_depth es: \", i)"
   ]
  },
  {
   "cell_type": "code",
   "execution_count": 69,
   "metadata": {},
   "outputs": [
    {
     "name": "stdout",
     "output_type": "stream",
     "text": [
      "[16:25:35] WARNING: ..\\src\\learner.cc:1061: Starting in XGBoost 1.3.0, the default evaluation metric used with the objective 'binary:logistic' was changed from 'error' to 'logloss'. Explicitly set eval_metric if you'd like to restore the old behavior.\n",
      "Mi árbol da un accuracy de: 0.7155555555555555 cuando su max_depth es:  1\n",
      "[16:25:35] WARNING: ..\\src\\learner.cc:1061: Starting in XGBoost 1.3.0, the default evaluation metric used with the objective 'binary:logistic' was changed from 'error' to 'logloss'. Explicitly set eval_metric if you'd like to restore the old behavior.\n",
      "Mi árbol da un accuracy de: 0.6711111111111111 cuando su max_depth es:  2\n",
      "[16:25:35] WARNING: ..\\src\\learner.cc:1061: Starting in XGBoost 1.3.0, the default evaluation metric used with the objective 'binary:logistic' was changed from 'error' to 'logloss'. Explicitly set eval_metric if you'd like to restore the old behavior.\n",
      "Mi árbol da un accuracy de: 0.6755555555555556 cuando su max_depth es:  3\n",
      "[16:25:35] WARNING: ..\\src\\learner.cc:1061: Starting in XGBoost 1.3.0, the default evaluation metric used with the objective 'binary:logistic' was changed from 'error' to 'logloss'. Explicitly set eval_metric if you'd like to restore the old behavior.\n",
      "Mi árbol da un accuracy de: 0.6488888888888888 cuando su max_depth es:  4\n",
      "[16:25:35] WARNING: ..\\src\\learner.cc:1061: Starting in XGBoost 1.3.0, the default evaluation metric used with the objective 'binary:logistic' was changed from 'error' to 'logloss'. Explicitly set eval_metric if you'd like to restore the old behavior.\n",
      "Mi árbol da un accuracy de: 0.64 cuando su max_depth es:  5\n",
      "[16:25:35] WARNING: ..\\src\\learner.cc:1061: Starting in XGBoost 1.3.0, the default evaluation metric used with the objective 'binary:logistic' was changed from 'error' to 'logloss'. Explicitly set eval_metric if you'd like to restore the old behavior.\n",
      "Mi árbol da un accuracy de: 0.6311111111111111 cuando su max_depth es:  6\n",
      "[16:25:35] WARNING: ..\\src\\learner.cc:1061: Starting in XGBoost 1.3.0, the default evaluation metric used with the objective 'binary:logistic' was changed from 'error' to 'logloss'. Explicitly set eval_metric if you'd like to restore the old behavior.\n",
      "Mi árbol da un accuracy de: 0.6133333333333333 cuando su max_depth es:  7\n",
      "[16:25:36] WARNING: ..\\src\\learner.cc:1061: Starting in XGBoost 1.3.0, the default evaluation metric used with the objective 'binary:logistic' was changed from 'error' to 'logloss'. Explicitly set eval_metric if you'd like to restore the old behavior.\n",
      "Mi árbol da un accuracy de: 0.6488888888888888 cuando su max_depth es:  8\n",
      "[16:25:36] WARNING: ..\\src\\learner.cc:1061: Starting in XGBoost 1.3.0, the default evaluation metric used with the objective 'binary:logistic' was changed from 'error' to 'logloss'. Explicitly set eval_metric if you'd like to restore the old behavior.\n",
      "Mi árbol da un accuracy de: 0.6444444444444445 cuando su max_depth es:  9\n"
     ]
    }
   ],
   "source": [
    "for i in range(1,10):\n",
    "    # use_label_encoder=False\n",
    "    xgb_model = XGBClassifier(max_depth=i, use_label_encoder=False)\n",
    "    xgb_model.fit(X_train,y_train)\n",
    "    y_pred = xgb_model.predict(X_test)\n",
    "    print(\"Mi árbol da un accuracy de:\", accuracy_score(y_test,y_pred), \"cuando su max_depth es: \", i)"
   ]
  },
  {
   "cell_type": "markdown",
   "metadata": {},
   "source": [
    "#### Actualización de los arboles de clasificacion"
   ]
  },
  {
   "cell_type": "markdown",
   "metadata": {},
   "source": [
    "#### DecisionTreeClassifier"
   ]
  },
  {
   "cell_type": "code",
   "execution_count": 72,
   "metadata": {},
   "outputs": [
    {
     "name": "stdout",
     "output_type": "stream",
     "text": [
      "El accuracy para mi tercer modelo es :0.72000000\n"
     ]
    }
   ],
   "source": [
    "tree_clf_N = DecisionTreeClassifier(max_depth=5)\n",
    "tree_clf_2=tree_clf_N.fit(X_train,y_train)\n",
    "predicciones_nuevo_md_DTC = tree_clf_2.predict(X_test)\n",
    "print('El accuracy para mi tercer modelo es :{0:.8f}'.format(accuracy_score(y_test,predicciones_nuevo_md_DTC))) #usando la expresión regex .8f para mostrar 8 decimales"
   ]
  },
  {
   "cell_type": "code",
   "execution_count": 73,
   "metadata": {},
   "outputs": [
    {
     "data": {
      "text/plain": [
       "[]"
      ]
     },
     "execution_count": 73,
     "metadata": {},
     "output_type": "execute_result"
    },
    {
     "data": {
      "image/png": "[encoded data removed]",
      "text/plain": [
       "<Figure size 720x432 with 2 Axes>"
      ]
     },
     "metadata": {
      "needs_background": "light"
     },
     "output_type": "display_data"
    }
   ],
   "source": [
    "matriz_confusion = confusion_matrix(y_test,predicciones_nuevo_md_DTC)\n",
    "\n",
    "plt.figure(figsize=(10,6))\n",
    "ax=sns.heatmap(matriz_confusion, annot = True, annot_kws={\"size\": 10}, fmt=\".1f\")\n",
    "ax.set_ylim((0,2))\n",
    "plt.xlabel('Nuestra data dice que')\n",
    "plt.ylabel('Nuestro algoritmo nos dice que')\n",
    "plt.plot()"
   ]
  },
  {
   "cell_type": "markdown",
   "metadata": {},
   "source": [
    "#### RandomForestClassifier"
   ]
  },
  {
   "cell_type": "code",
   "execution_count": 74,
   "metadata": {},
   "outputs": [
    {
     "name": "stdout",
     "output_type": "stream",
     "text": [
      "El accuracy para mi tercer modelo es :0.72000000\n"
     ]
    }
   ],
   "source": [
    "rnd_clf_N = RandomForestClassifier(max_depth=3)\n",
    "rnd_clf_2=rnd_clf_N.fit(X_train,y_train)\n",
    "predicciones_nuevo_md_RFC = rnd_clf_2.predict(X_test)\n",
    "print('El accuracy para mi tercer modelo es :{0:.8f}'.format(accuracy_score(y_test,predicciones_nuevo_md_RFC))) #usando la expresión regex .8f para mostrar 8 decimales"
   ]
  },
  {
   "cell_type": "markdown",
   "metadata": {},
   "source": [
    "#### Matriz de confusion"
   ]
  },
  {
   "cell_type": "code",
   "execution_count": 131,
   "metadata": {},
   "outputs": [
    {
     "data": {
      "text/plain": [
       "[]"
      ]
     },
     "execution_count": 131,
     "metadata": {},
     "output_type": "execute_result"
    },
    {
     "data": {
      "image/png": "[encoded data removed]",
      "text/plain": [
       "<Figure size 720x432 with 2 Axes>"
      ]
     },
     "metadata": {
      "needs_background": "light"
     },
     "output_type": "display_data"
    }
   ],
   "source": [
    "matriz_confusion = confusion_matrix(y_test,predicciones_nuevo_md_RFC)\n",
    "\n",
    "plt.figure(figsize=(10,6))\n",
    "ax=sns.heatmap(matriz_confusion, annot = True, annot_kws={\"size\": 10}, fmt=\".1f\")\n",
    "ax.set_ylim((0,2))\n",
    "plt.xlabel('Nuestra data dice que')\n",
    "plt.ylabel('Nuestro algoritmo nos dice que')\n",
    "plt.plot()"
   ]
  },
  {
   "cell_type": "markdown",
   "metadata": {},
   "source": [
    "#### XGBoost"
   ]
  },
  {
   "cell_type": "code",
   "execution_count": 80,
   "metadata": {},
   "outputs": [
    {
     "name": "stdout",
     "output_type": "stream",
     "text": [
      "[16:27:59] WARNING: ..\\src\\learner.cc:1061: Starting in XGBoost 1.3.0, the default evaluation metric used with the objective 'binary:logistic' was changed from 'error' to 'logloss'. Explicitly set eval_metric if you'd like to restore the old behavior.\n",
      "El accuracy para mi tercer modelo es :0.71555556\n"
     ]
    },
    {
     "name": "stderr",
     "output_type": "stream",
     "text": [
      "D:\\ProgramasDataScience\\envs\\UniversityDropout\\lib\\site-packages\\xgboost\\sklearn.py:888: UserWarning: The use of label encoder in XGBClassifier is deprecated and will be removed in a future release. To remove this warning, do the following: 1) Pass option use_label_encoder=False when constructing XGBClassifier object; and 2) Encode your labels (y) as integers starting with 0, i.e. 0, 1, 2, ..., [num_class - 1].\n",
      "  warnings.warn(label_encoder_deprecation_msg, UserWarning)\n"
     ]
    }
   ],
   "source": [
    "xgb_model_N = XGBClassifier(max_depth=1)\n",
    "xgb_model_2=xgb_model_N.fit(X_train,y_train)\n",
    "predicciones_nuevo_md_xgb = xgb_model_2.predict(X_test)\n",
    "print('El accuracy para mi tercer modelo es :{0:.8f}'.format(accuracy_score(y_test,predicciones_nuevo_md_xgb))) #usando la expresión regex .8f para mostrar 8 decimales"
   ]
  },
  {
   "cell_type": "markdown",
   "metadata": {},
   "source": [
    "#### Matriz de confusion"
   ]
  },
  {
   "cell_type": "code",
   "execution_count": 81,
   "metadata": {},
   "outputs": [
    {
     "data": {
      "text/plain": [
       "[]"
      ]
     },
     "execution_count": 81,
     "metadata": {},
     "output_type": "execute_result"
    },
    {
     "data": {
      "image/png": "[encoded data removed]",
      "text/plain": [
       "<Figure size 720x432 with 2 Axes>"
      ]
     },
     "metadata": {
      "needs_background": "light"
     },
     "output_type": "display_data"
    }
   ],
   "source": [
    "matriz_confusion = confusion_matrix(y_test,predicciones_nuevo_md_xgb)\n",
    "\n",
    "plt.figure(figsize=(10,6))\n",
    "ax=sns.heatmap(matriz_confusion, annot = True, annot_kws={\"size\": 10}, fmt=\".1f\")\n",
    "ax.set_ylim((0,2))\n",
    "plt.xlabel('Nuestra data dice que')\n",
    "plt.ylabel('Nuestro algoritmo nos dice que')\n",
    "plt.plot()"
   ]
  },
  {
   "cell_type": "markdown",
   "metadata": {},
   "source": [
    "### Evaluación de modelos optimizados"
   ]
  },
  {
   "cell_type": "markdown",
   "metadata": {},
   "source": [
    "#### Definimos una lista de métricas y creamos una función para calcular todas las métricas"
   ]
  },
  {
   "cell_type": "code",
   "execution_count": 123,
   "metadata": {},
   "outputs": [],
   "source": [
    "lista_metricas=[accuracy_score,precision_score,recall_score,f1_score,roc_auc_score]\n",
    "def calcula_scores_modelo(score_modelo_nlp,real,prediccion):\n",
    "  for metrica in lista_metricas: score_modelo_nlp.append(metrica(real, prediccion))"
   ]
  },
  {
   "cell_type": "markdown",
   "metadata": {},
   "source": [
    "#### Calculamos todas las métricas para el modelo de Regresión Logística"
   ]
  },
  {
   "cell_type": "code",
   "execution_count": 124,
   "metadata": {},
   "outputs": [],
   "source": [
    "score_rl=[]\n",
    "calcula_scores_modelo(score_rl,y_test,logreg_pred)"
   ]
  },
  {
   "cell_type": "markdown",
   "metadata": {},
   "source": [
    "#### Calculamos todas las métricas para el modelo de DecisionTreeClassifier optimizado"
   ]
  },
  {
   "cell_type": "code",
   "execution_count": 125,
   "metadata": {},
   "outputs": [],
   "source": [
    "score_tcl=[]\n",
    "calcula_scores_modelo(score_tcl,y_test,predicciones_nuevo_md_DTC)"
   ]
  },
  {
   "cell_type": "markdown",
   "metadata": {},
   "source": [
    "#### Calculamos todas las métricas para el modelo de RandomForestClassifier optimizado"
   ]
  },
  {
   "cell_type": "code",
   "execution_count": 126,
   "metadata": {},
   "outputs": [],
   "source": [
    "score_rfc=[]\n",
    "calcula_scores_modelo(score_rfc,y_test,predicciones_nuevo_md_RFC)"
   ]
  },
  {
   "cell_type": "markdown",
   "metadata": {},
   "source": [
    "#### Calculamos todas las métricas para el modelo de XGBoost optimizado"
   ]
  },
  {
   "cell_type": "code",
   "execution_count": 127,
   "metadata": {},
   "outputs": [],
   "source": [
    "score_xgb=[]\n",
    "calcula_scores_modelo(score_xgb,y_test, predicciones_nuevo_md_xgb)"
   ]
  },
  {
   "cell_type": "markdown",
   "metadata": {},
   "source": [
    "#### Generamos una tabla donde se consolide todos los indicadores"
   ]
  },
  {
   "cell_type": "code",
   "execution_count": 128,
   "metadata": {
    "scrolled": true
   },
   "outputs": [
    {
     "data": {
      "text/html": [
       "<div>\n",
       "<style scoped>\n",
       "    .dataframe tbody tr th:only-of-type {\n",
       "        vertical-align: middle;\n",
       "    }\n",
       "\n",
       "    .dataframe tbody tr th {\n",
       "        vertical-align: top;\n",
       "    }\n",
       "\n",
       "    .dataframe thead th {\n",
       "        text-align: right;\n",
       "    }\n",
       "</style>\n",
       "<table border=\"1\" class=\"dataframe\">\n",
       "  <thead>\n",
       "    <tr style=\"text-align: right;\">\n",
       "      <th></th>\n",
       "      <th>RegLogistica</th>\n",
       "      <th>DecisionTreeClassifier</th>\n",
       "      <th>RandomForest</th>\n",
       "      <th>XGBoost</th>\n",
       "    </tr>\n",
       "  </thead>\n",
       "  <tbody>\n",
       "    <tr>\n",
       "      <th>accuracy_score</th>\n",
       "      <td>0.715556</td>\n",
       "      <td>0.720000</td>\n",
       "      <td>0.720000</td>\n",
       "      <td>0.715556</td>\n",
       "    </tr>\n",
       "    <tr>\n",
       "      <th>precision_score</th>\n",
       "      <td>0.766667</td>\n",
       "      <td>0.753846</td>\n",
       "      <td>0.779661</td>\n",
       "      <td>0.766667</td>\n",
       "    </tr>\n",
       "    <tr>\n",
       "      <th>recall_score</th>\n",
       "      <td>0.479167</td>\n",
       "      <td>0.510417</td>\n",
       "      <td>0.479167</td>\n",
       "      <td>0.479167</td>\n",
       "    </tr>\n",
       "    <tr>\n",
       "      <th>f1_score</th>\n",
       "      <td>0.589744</td>\n",
       "      <td>0.608696</td>\n",
       "      <td>0.593548</td>\n",
       "      <td>0.589744</td>\n",
       "    </tr>\n",
       "    <tr>\n",
       "      <th>roc_auc_score</th>\n",
       "      <td>0.685320</td>\n",
       "      <td>0.693193</td>\n",
       "      <td>0.689196</td>\n",
       "      <td>0.685320</td>\n",
       "    </tr>\n",
       "  </tbody>\n",
       "</table>\n",
       "</div>"
      ],
      "text/plain": [
       "                 RegLogistica  DecisionTreeClassifier  RandomForest   XGBoost\n",
       "accuracy_score       0.715556                0.720000      0.720000  0.715556\n",
       "precision_score      0.766667                0.753846      0.779661  0.766667\n",
       "recall_score         0.479167                0.510417      0.479167  0.479167\n",
       "f1_score             0.589744                0.608696      0.593548  0.589744\n",
       "roc_auc_score        0.685320                0.693193      0.689196  0.685320"
      ]
     },
     "execution_count": 128,
     "metadata": {},
     "output_type": "execute_result"
    }
   ],
   "source": [
    "tabla_score = {'RegLogistica': score_rl,\n",
    "               'DecisionTreeClassifier': score_tcl,\n",
    "               'RandomForest': score_rfc,\n",
    "               'XGBoost': score_xgb}\n",
    "tabla_score = pd.DataFrame(tabla_score)  \n",
    "tabla_score.index = ['accuracy_score','precision_score','recall_score','f1_score','roc_auc_score']\n",
    "tabla_score"
   ]
  },
  {
   "cell_type": "markdown",
   "metadata": {},
   "source": [
    "### Curva ROC para todos los modelos optimizados"
   ]
  },
  {
   "cell_type": "markdown",
   "metadata": {},
   "source": [
    "#### Creamos la variable clasificadoresOptimizados para guardar los modelos optimizados"
   ]
  },
  {
   "cell_type": "code",
   "execution_count": 107,
   "metadata": {},
   "outputs": [],
   "source": [
    "clasificadoresOptimizados = [logreg_fit, tree_clf_2, rnd_clf_2, xgb_model_2] "
   ]
  },
  {
   "cell_type": "markdown",
   "metadata": {},
   "source": [
    "#### Creamos una función para obtener los parámetros de la curva ROC para cada uno de los modelos optimizados"
   ]
  },
  {
   "cell_type": "code",
   "execution_count": 119,
   "metadata": {},
   "outputs": [
    {
     "name": "stderr",
     "output_type": "stream",
     "text": [
      "D:\\ProgramasDataScience\\envs\\UniversityDropout\\lib\\site-packages\\sklearn\\linear_model\\_logistic.py:763: ConvergenceWarning: lbfgs failed to converge (status=1):\n",
      "STOP: TOTAL NO. of ITERATIONS REACHED LIMIT.\n",
      "\n",
      "Increase the number of iterations (max_iter) or scale the data as shown in:\n",
      "    https://scikit-learn.org/stable/modules/preprocessing.html\n",
      "Please also refer to the documentation for alternative solver options:\n",
      "    https://scikit-learn.org/stable/modules/linear_model.html#logistic-regression\n",
      "  n_iter_i = _check_optimize_result(\n"
     ]
    },
    {
     "name": "stdout",
     "output_type": "stream",
     "text": [
      "[20:14:06] WARNING: ..\\src\\learner.cc:1061: Starting in XGBoost 1.3.0, the default evaluation metric used with the objective 'binary:logistic' was changed from 'error' to 'logloss'. Explicitly set eval_metric if you'd like to restore the old behavior.\n"
     ]
    },
    {
     "name": "stderr",
     "output_type": "stream",
     "text": [
      "D:\\ProgramasDataScience\\envs\\UniversityDropout\\lib\\site-packages\\xgboost\\sklearn.py:888: UserWarning: The use of label encoder in XGBClassifier is deprecated and will be removed in a future release. To remove this warning, do the following: 1) Pass option use_label_encoder=False when constructing XGBClassifier object; and 2) Encode your labels (y) as integers starting with 0, i.e. 0, 1, 2, ..., [num_class - 1].\n",
      "  warnings.warn(label_encoder_deprecation_msg, UserWarning)\n"
     ]
    }
   ],
   "source": [
    "tabla_resultados_optimizados = pd.DataFrame(columns=['clasificadores', 'fpr','tpr','auc'])\n",
    "for cls in clasificadoresOptimizados:\n",
    "    model = cls.fit(X_train, y_train)\n",
    "    yproba = model.predict_proba(X_test)[:,1]\n",
    "    fpr, tpr, _ = roc_curve(y_test, yproba)\n",
    "    auc = roc_auc_score(y_test, yproba)\n",
    "    tabla_resultados_optimizados = tabla_resultados_optimizados.append({'clasificadores':None,'fpr':fpr,'tpr':tpr,'auc':auc}, ignore_index=True)"
   ]
  },
  {
   "cell_type": "markdown",
   "metadata": {},
   "source": [
    "#### Mostramos la tabla_resultados_optimizados declarando como índices el nombre de cada uno de los modelos"
   ]
  },
  {
   "cell_type": "code",
   "execution_count": 120,
   "metadata": {},
   "outputs": [
    {
     "data": {
      "text/html": [
       "<div>\n",
       "<style scoped>\n",
       "    .dataframe tbody tr th:only-of-type {\n",
       "        vertical-align: middle;\n",
       "    }\n",
       "\n",
       "    .dataframe tbody tr th {\n",
       "        vertical-align: top;\n",
       "    }\n",
       "\n",
       "    .dataframe thead th {\n",
       "        text-align: right;\n",
       "    }\n",
       "</style>\n",
       "<table border=\"1\" class=\"dataframe\">\n",
       "  <thead>\n",
       "    <tr style=\"text-align: right;\">\n",
       "      <th></th>\n",
       "      <th>fpr</th>\n",
       "      <th>tpr</th>\n",
       "      <th>auc</th>\n",
       "    </tr>\n",
       "    <tr>\n",
       "      <th>clasificadores</th>\n",
       "      <th></th>\n",
       "      <th></th>\n",
       "      <th></th>\n",
       "    </tr>\n",
       "  </thead>\n",
       "  <tbody>\n",
       "    <tr>\n",
       "      <th>regresion_logistica</th>\n",
       "      <td>[0.0, 0.007751937984496124, 0.0077519379844961...</td>\n",
       "      <td>[0.0, 0.0, 0.020833333333333332, 0.02083333333...</td>\n",
       "      <td>0.726663</td>\n",
       "    </tr>\n",
       "    <tr>\n",
       "      <th>arbol_clasificacion</th>\n",
       "      <td>[0.0, 0.0, 0.03875968992248062, 0.046511627906...</td>\n",
       "      <td>[0.0, 0.010416666666666666, 0.15625, 0.1770833...</td>\n",
       "      <td>0.709827</td>\n",
       "    </tr>\n",
       "    <tr>\n",
       "      <th>random_forest</th>\n",
       "      <td>[0.0, 0.0, 0.0, 0.007751937984496124, 0.007751...</td>\n",
       "      <td>[0.0, 0.010416666666666666, 0.0625, 0.0625, 0....</td>\n",
       "      <td>0.721697</td>\n",
       "    </tr>\n",
       "    <tr>\n",
       "      <th>XgBoost</th>\n",
       "      <td>[0.0, 0.0, 0.015503875968992248, 0.01550387596...</td>\n",
       "      <td>[0.0, 0.010416666666666666, 0.0104166666666666...</td>\n",
       "      <td>0.729530</td>\n",
       "    </tr>\n",
       "  </tbody>\n",
       "</table>\n",
       "</div>"
      ],
      "text/plain": [
       "                                                                   fpr  \\\n",
       "clasificadores                                                           \n",
       "regresion_logistica  [0.0, 0.007751937984496124, 0.0077519379844961...   \n",
       "arbol_clasificacion  [0.0, 0.0, 0.03875968992248062, 0.046511627906...   \n",
       "random_forest        [0.0, 0.0, 0.0, 0.007751937984496124, 0.007751...   \n",
       "XgBoost              [0.0, 0.0, 0.015503875968992248, 0.01550387596...   \n",
       "\n",
       "                                                                   tpr  \\\n",
       "clasificadores                                                           \n",
       "regresion_logistica  [0.0, 0.0, 0.020833333333333332, 0.02083333333...   \n",
       "arbol_clasificacion  [0.0, 0.010416666666666666, 0.15625, 0.1770833...   \n",
       "random_forest        [0.0, 0.010416666666666666, 0.0625, 0.0625, 0....   \n",
       "XgBoost              [0.0, 0.010416666666666666, 0.0104166666666666...   \n",
       "\n",
       "                          auc  \n",
       "clasificadores                 \n",
       "regresion_logistica  0.726663  \n",
       "arbol_clasificacion  0.709827  \n",
       "random_forest        0.721697  \n",
       "XgBoost              0.729530  "
      ]
     },
     "execution_count": 120,
     "metadata": {},
     "output_type": "execute_result"
    }
   ],
   "source": [
    "tabla_resultados_optimizados['clasificadores'] = ['regresion_logistica','arbol_clasificacion','random_forest', 'XgBoost']\n",
    "tabla_resultados_optimizados.set_index('clasificadores', inplace=True)\n",
    "tabla_resultados_optimizados"
   ]
  },
  {
   "cell_type": "markdown",
   "metadata": {},
   "source": [
    "#### Dibujamos la curva ROC con los parámetros obtenidos para cada uno de los modelos optimizados"
   ]
  },
  {
   "cell_type": "code",
   "execution_count": 129,
   "metadata": {},
   "outputs": [
    {
     "data": {
      "image/png": "[encoded data removed]",
      "text/plain": [
       "<Figure size 576x432 with 1 Axes>"
      ]
     },
     "metadata": {
      "needs_background": "light"
     },
     "output_type": "display_data"
    }
   ],
   "source": [
    "fig = plt.figure(figsize=(8,6))\n",
    "\n",
    "for i in tabla_resultados_optimizados.index:\n",
    "    plt.plot(tabla_resultados_optimizados.loc[i]['fpr'], \n",
    "             tabla_resultados_optimizados.loc[i]['tpr'], \n",
    "             label=\"{}, AUC={:.4f}\".format(i, tabla_resultados_optimizados.loc[i]['auc']))\n",
    "    \n",
    "plt.plot([0,1], [0,1], color='orange', linestyle='--')\n",
    "\n",
    "plt.xticks(np.arange(0.0, 1.1, step=0.1))\n",
    "plt.xlabel(\"Falsos Positivos\", fontsize=15)\n",
    "\n",
    "plt.yticks(np.arange(0.0, 1.1, step=0.1))\n",
    "plt.ylabel(\"Verdaderos Positivos\", fontsize=15)\n",
    "\n",
    "plt.title('Análisis de la curva ROC', fontweight='bold', fontsize=15)\n",
    "plt.legend(prop={'size':12}, loc='lower right')\n",
    "\n",
    "plt.show()"
   ]
  },
  {
   "cell_type": "code",
   "execution_count": null,
   "metadata": {},
   "outputs": [],
   "source": []
  },
  {
   "cell_type": "markdown",
   "metadata": {},
   "source": [
    "### PREDICCION UTILIZANDO LOS MODELOS"
   ]
  },
  {
   "cell_type": "code",
   "execution_count": 88,
   "metadata": {},
   "outputs": [
    {
     "data": {
      "text/plain": [
       "array([0, 0, 1, ..., 0, 0, 0], dtype=int64)"
      ]
     },
     "execution_count": 88,
     "metadata": {},
     "output_type": "execute_result"
    }
   ],
   "source": [
    "test_predecida=rnd_clf_2.predict(database_test)\n",
    "test_predecida"
   ]
  },
  {
   "cell_type": "code",
   "execution_count": 98,
   "metadata": {},
   "outputs": [],
   "source": [
    "#Extraer los Id de la data de origen\n",
    "origen = pd.read_csv('datasets/universitydropout.csv')\n",
    "origen_id=origen['ID']"
   ]
  },
  {
   "cell_type": "code",
   "execution_count": 99,
   "metadata": {},
   "outputs": [
    {
     "data": {
      "text/plain": [
       "((1500,), (1500,))"
      ]
     },
     "execution_count": 99,
     "metadata": {},
     "output_type": "execute_result"
    }
   ],
   "source": [
    "#Comprobar que el tamaño de las predicciones y id_origen coincidan para unir ambos dataset sin errores\n",
    "test_predecida.shape, origen_id.shape"
   ]
  },
  {
   "cell_type": "code",
   "execution_count": 100,
   "metadata": {},
   "outputs": [],
   "source": [
    "\"CELDA N°74\"\n",
    "#Crear un diccionario para guardar ambos dataset y crear un nuevo dataframe llamado PrediccionesDesercion para unir ambos dataset\n",
    "prediccion_dict = {'ID':origen_id,'DESERCION':test_predecida}\n",
    "PrediccionesDesercion = pd.DataFrame(prediccion_dict)"
   ]
  },
  {
   "cell_type": "code",
   "execution_count": 101,
   "metadata": {},
   "outputs": [],
   "source": [
    "#Generar un archivo csv con tu nombre -no olvidar la extensión csv\n",
    "PrediccionesDesercion.to_csv('Prediccion.csv',index=False)"
   ]
  },
  {
   "cell_type": "code",
   "execution_count": 102,
   "metadata": {},
   "outputs": [],
   "source": [
    "prediccion = pd.read_csv('Prediccion.csv')"
   ]
  },
  {
   "cell_type": "code",
   "execution_count": 106,
   "metadata": {},
   "outputs": [
    {
     "data": {
      "text/html": [
       "<div>\n",
       "<style scoped>\n",
       "    .dataframe tbody tr th:only-of-type {\n",
       "        vertical-align: middle;\n",
       "    }\n",
       "\n",
       "    .dataframe tbody tr th {\n",
       "        vertical-align: top;\n",
       "    }\n",
       "\n",
       "    .dataframe thead th {\n",
       "        text-align: right;\n",
       "    }\n",
       "</style>\n",
       "<table border=\"1\" class=\"dataframe\">\n",
       "  <thead>\n",
       "    <tr style=\"text-align: right;\">\n",
       "      <th></th>\n",
       "      <th>ID</th>\n",
       "      <th>DESERCION</th>\n",
       "    </tr>\n",
       "  </thead>\n",
       "  <tbody>\n",
       "    <tr>\n",
       "      <th>0</th>\n",
       "      <td>47</td>\n",
       "      <td>0</td>\n",
       "    </tr>\n",
       "    <tr>\n",
       "      <th>1</th>\n",
       "      <td>174</td>\n",
       "      <td>0</td>\n",
       "    </tr>\n",
       "    <tr>\n",
       "      <th>2</th>\n",
       "      <td>626</td>\n",
       "      <td>1</td>\n",
       "    </tr>\n",
       "    <tr>\n",
       "      <th>3</th>\n",
       "      <td>784</td>\n",
       "      <td>0</td>\n",
       "    </tr>\n",
       "    <tr>\n",
       "      <th>4</th>\n",
       "      <td>813</td>\n",
       "      <td>1</td>\n",
       "    </tr>\n",
       "    <tr>\n",
       "      <th>5</th>\n",
       "      <td>893</td>\n",
       "      <td>0</td>\n",
       "    </tr>\n",
       "    <tr>\n",
       "      <th>6</th>\n",
       "      <td>1011</td>\n",
       "      <td>0</td>\n",
       "    </tr>\n",
       "    <tr>\n",
       "      <th>7</th>\n",
       "      <td>280</td>\n",
       "      <td>0</td>\n",
       "    </tr>\n",
       "    <tr>\n",
       "      <th>8</th>\n",
       "      <td>446</td>\n",
       "      <td>0</td>\n",
       "    </tr>\n",
       "    <tr>\n",
       "      <th>9</th>\n",
       "      <td>465</td>\n",
       "      <td>0</td>\n",
       "    </tr>\n",
       "    <tr>\n",
       "      <th>10</th>\n",
       "      <td>703</td>\n",
       "      <td>0</td>\n",
       "    </tr>\n",
       "    <tr>\n",
       "      <th>11</th>\n",
       "      <td>712</td>\n",
       "      <td>1</td>\n",
       "    </tr>\n",
       "    <tr>\n",
       "      <th>12</th>\n",
       "      <td>839</td>\n",
       "      <td>0</td>\n",
       "    </tr>\n",
       "    <tr>\n",
       "      <th>13</th>\n",
       "      <td>936</td>\n",
       "      <td>0</td>\n",
       "    </tr>\n",
       "    <tr>\n",
       "      <th>14</th>\n",
       "      <td>1083</td>\n",
       "      <td>0</td>\n",
       "    </tr>\n",
       "    <tr>\n",
       "      <th>15</th>\n",
       "      <td>1103</td>\n",
       "      <td>1</td>\n",
       "    </tr>\n",
       "    <tr>\n",
       "      <th>16</th>\n",
       "      <td>1225</td>\n",
       "      <td>0</td>\n",
       "    </tr>\n",
       "    <tr>\n",
       "      <th>17</th>\n",
       "      <td>1259</td>\n",
       "      <td>0</td>\n",
       "    </tr>\n",
       "    <tr>\n",
       "      <th>18</th>\n",
       "      <td>1340</td>\n",
       "      <td>0</td>\n",
       "    </tr>\n",
       "    <tr>\n",
       "      <th>19</th>\n",
       "      <td>1386</td>\n",
       "      <td>0</td>\n",
       "    </tr>\n",
       "    <tr>\n",
       "      <th>20</th>\n",
       "      <td>331</td>\n",
       "      <td>0</td>\n",
       "    </tr>\n",
       "    <tr>\n",
       "      <th>21</th>\n",
       "      <td>366</td>\n",
       "      <td>0</td>\n",
       "    </tr>\n",
       "    <tr>\n",
       "      <th>22</th>\n",
       "      <td>574</td>\n",
       "      <td>0</td>\n",
       "    </tr>\n",
       "    <tr>\n",
       "      <th>23</th>\n",
       "      <td>581</td>\n",
       "      <td>0</td>\n",
       "    </tr>\n",
       "    <tr>\n",
       "      <th>24</th>\n",
       "      <td>689</td>\n",
       "      <td>0</td>\n",
       "    </tr>\n",
       "    <tr>\n",
       "      <th>25</th>\n",
       "      <td>743</td>\n",
       "      <td>1</td>\n",
       "    </tr>\n",
       "    <tr>\n",
       "      <th>26</th>\n",
       "      <td>912</td>\n",
       "      <td>0</td>\n",
       "    </tr>\n",
       "    <tr>\n",
       "      <th>27</th>\n",
       "      <td>1364</td>\n",
       "      <td>0</td>\n",
       "    </tr>\n",
       "    <tr>\n",
       "      <th>28</th>\n",
       "      <td>1428</td>\n",
       "      <td>0</td>\n",
       "    </tr>\n",
       "    <tr>\n",
       "      <th>29</th>\n",
       "      <td>22</td>\n",
       "      <td>0</td>\n",
       "    </tr>\n",
       "    <tr>\n",
       "      <th>30</th>\n",
       "      <td>172</td>\n",
       "      <td>0</td>\n",
       "    </tr>\n",
       "    <tr>\n",
       "      <th>31</th>\n",
       "      <td>192</td>\n",
       "      <td>0</td>\n",
       "    </tr>\n",
       "    <tr>\n",
       "      <th>32</th>\n",
       "      <td>274</td>\n",
       "      <td>0</td>\n",
       "    </tr>\n",
       "    <tr>\n",
       "      <th>33</th>\n",
       "      <td>348</td>\n",
       "      <td>0</td>\n",
       "    </tr>\n",
       "    <tr>\n",
       "      <th>34</th>\n",
       "      <td>351</td>\n",
       "      <td>0</td>\n",
       "    </tr>\n",
       "    <tr>\n",
       "      <th>35</th>\n",
       "      <td>448</td>\n",
       "      <td>1</td>\n",
       "    </tr>\n",
       "    <tr>\n",
       "      <th>36</th>\n",
       "      <td>549</td>\n",
       "      <td>1</td>\n",
       "    </tr>\n",
       "    <tr>\n",
       "      <th>37</th>\n",
       "      <td>616</td>\n",
       "      <td>0</td>\n",
       "    </tr>\n",
       "    <tr>\n",
       "      <th>38</th>\n",
       "      <td>694</td>\n",
       "      <td>0</td>\n",
       "    </tr>\n",
       "    <tr>\n",
       "      <th>39</th>\n",
       "      <td>917</td>\n",
       "      <td>0</td>\n",
       "    </tr>\n",
       "    <tr>\n",
       "      <th>40</th>\n",
       "      <td>1013</td>\n",
       "      <td>0</td>\n",
       "    </tr>\n",
       "    <tr>\n",
       "      <th>41</th>\n",
       "      <td>1047</td>\n",
       "      <td>0</td>\n",
       "    </tr>\n",
       "    <tr>\n",
       "      <th>42</th>\n",
       "      <td>1111</td>\n",
       "      <td>0</td>\n",
       "    </tr>\n",
       "    <tr>\n",
       "      <th>43</th>\n",
       "      <td>1314</td>\n",
       "      <td>0</td>\n",
       "    </tr>\n",
       "    <tr>\n",
       "      <th>44</th>\n",
       "      <td>1390</td>\n",
       "      <td>0</td>\n",
       "    </tr>\n",
       "    <tr>\n",
       "      <th>45</th>\n",
       "      <td>1447</td>\n",
       "      <td>0</td>\n",
       "    </tr>\n",
       "    <tr>\n",
       "      <th>46</th>\n",
       "      <td>1448</td>\n",
       "      <td>0</td>\n",
       "    </tr>\n",
       "    <tr>\n",
       "      <th>47</th>\n",
       "      <td>1489</td>\n",
       "      <td>1</td>\n",
       "    </tr>\n",
       "    <tr>\n",
       "      <th>48</th>\n",
       "      <td>175</td>\n",
       "      <td>0</td>\n",
       "    </tr>\n",
       "    <tr>\n",
       "      <th>49</th>\n",
       "      <td>429</td>\n",
       "      <td>0</td>\n",
       "    </tr>\n",
       "  </tbody>\n",
       "</table>\n",
       "</div>"
      ],
      "text/plain": [
       "      ID  DESERCION\n",
       "0     47          0\n",
       "1    174          0\n",
       "2    626          1\n",
       "3    784          0\n",
       "4    813          1\n",
       "5    893          0\n",
       "6   1011          0\n",
       "7    280          0\n",
       "8    446          0\n",
       "9    465          0\n",
       "10   703          0\n",
       "11   712          1\n",
       "12   839          0\n",
       "13   936          0\n",
       "14  1083          0\n",
       "15  1103          1\n",
       "16  1225          0\n",
       "17  1259          0\n",
       "18  1340          0\n",
       "19  1386          0\n",
       "20   331          0\n",
       "21   366          0\n",
       "22   574          0\n",
       "23   581          0\n",
       "24   689          0\n",
       "25   743          1\n",
       "26   912          0\n",
       "27  1364          0\n",
       "28  1428          0\n",
       "29    22          0\n",
       "30   172          0\n",
       "31   192          0\n",
       "32   274          0\n",
       "33   348          0\n",
       "34   351          0\n",
       "35   448          1\n",
       "36   549          1\n",
       "37   616          0\n",
       "38   694          0\n",
       "39   917          0\n",
       "40  1013          0\n",
       "41  1047          0\n",
       "42  1111          0\n",
       "43  1314          0\n",
       "44  1390          0\n",
       "45  1447          0\n",
       "46  1448          0\n",
       "47  1489          1\n",
       "48   175          0\n",
       "49   429          0"
      ]
     },
     "execution_count": 106,
     "metadata": {},
     "output_type": "execute_result"
    }
   ],
   "source": [
    "prediccion.head(50)"
   ]
  }
 ],
 "metadata": {
  "kernelspec": {
   "display_name": "Python 3",
   "language": "python",
   "name": "python3"
  },
  "language_info": {
   "codemirror_mode": {
    "name": "ipython",
    "version": 3
   },
   "file_extension": ".py",
   "mimetype": "text/x-python",
   "name": "python",
   "nbconvert_exporter": "python",
   "pygments_lexer": "ipython3",
   "version": "3.8.10"
  }
 },
 "nbformat": 4,
 "nbformat_minor": 4
}
